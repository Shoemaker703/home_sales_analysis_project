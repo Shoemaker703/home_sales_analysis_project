{
 "cells": [
  {
   "cell_type": "code",
   "execution_count": 161,
   "metadata": {},
   "outputs": [],
   "source": [
    "# code here to explore your data\n",
    "import numpy as np\n",
    "import pandas as pd\n",
    "import matplotlib.pyplot as plt\n",
    "import seaborn as sns\n",
    "import statsmodels.api as sm\n",
    "\n",
    "from statsmodels.formula.api import ols\n",
    "%matplotlib inline"
   ]
  },
  {
   "cell_type": "code",
   "execution_count": 162,
   "metadata": {},
   "outputs": [],
   "source": [
    "df = pd.read_csv('data/kc_house_data_with_distances.csv')"
   ]
  },
  {
   "cell_type": "code",
   "execution_count": 163,
   "metadata": {
    "scrolled": true
   },
   "outputs": [
    {
     "data": {
      "text/html": [
       "<div>\n",
       "<style scoped>\n",
       "    .dataframe tbody tr th:only-of-type {\n",
       "        vertical-align: middle;\n",
       "    }\n",
       "\n",
       "    .dataframe tbody tr th {\n",
       "        vertical-align: top;\n",
       "    }\n",
       "\n",
       "    .dataframe thead th {\n",
       "        text-align: right;\n",
       "    }\n",
       "</style>\n",
       "<table border=\"1\" class=\"dataframe\">\n",
       "  <thead>\n",
       "    <tr style=\"text-align: right;\">\n",
       "      <th></th>\n",
       "      <th>Unnamed: 0</th>\n",
       "      <th>id</th>\n",
       "      <th>price</th>\n",
       "      <th>bedrooms</th>\n",
       "      <th>bathrooms</th>\n",
       "      <th>sqft_living</th>\n",
       "      <th>sqft_lot</th>\n",
       "      <th>floors</th>\n",
       "      <th>sqft_above</th>\n",
       "      <th>yr_built</th>\n",
       "      <th>yr_renovated</th>\n",
       "      <th>zipcode</th>\n",
       "      <th>lat</th>\n",
       "      <th>long</th>\n",
       "      <th>sqft_living15</th>\n",
       "      <th>sqft_lot15</th>\n",
       "      <th>police_dist</th>\n",
       "      <th>medical_dist</th>\n",
       "      <th>school_dist</th>\n",
       "      <th>farmers_market_dist</th>\n",
       "    </tr>\n",
       "  </thead>\n",
       "  <tbody>\n",
       "    <tr>\n",
       "      <th>count</th>\n",
       "      <td>21597.000000</td>\n",
       "      <td>2.159700e+04</td>\n",
       "      <td>2.159700e+04</td>\n",
       "      <td>21597.000000</td>\n",
       "      <td>21597.000000</td>\n",
       "      <td>21597.000000</td>\n",
       "      <td>2.159700e+04</td>\n",
       "      <td>21597.000000</td>\n",
       "      <td>21597.000000</td>\n",
       "      <td>21597.000000</td>\n",
       "      <td>17755.000000</td>\n",
       "      <td>21597.000000</td>\n",
       "      <td>21597.000000</td>\n",
       "      <td>21597.000000</td>\n",
       "      <td>21597.000000</td>\n",
       "      <td>21597.000000</td>\n",
       "      <td>21597.000000</td>\n",
       "      <td>21597.000000</td>\n",
       "      <td>21597.000000</td>\n",
       "      <td>21597.000000</td>\n",
       "    </tr>\n",
       "    <tr>\n",
       "      <th>mean</th>\n",
       "      <td>10798.000000</td>\n",
       "      <td>4.580474e+09</td>\n",
       "      <td>5.402966e+05</td>\n",
       "      <td>3.373200</td>\n",
       "      <td>2.115826</td>\n",
       "      <td>2080.321850</td>\n",
       "      <td>1.509941e+04</td>\n",
       "      <td>1.494096</td>\n",
       "      <td>1788.596842</td>\n",
       "      <td>1970.999676</td>\n",
       "      <td>83.636778</td>\n",
       "      <td>98077.951845</td>\n",
       "      <td>47.560093</td>\n",
       "      <td>-122.213982</td>\n",
       "      <td>1986.620318</td>\n",
       "      <td>12758.283512</td>\n",
       "      <td>0.030966</td>\n",
       "      <td>0.030646</td>\n",
       "      <td>0.008650</td>\n",
       "      <td>0.034153</td>\n",
       "    </tr>\n",
       "    <tr>\n",
       "      <th>std</th>\n",
       "      <td>6234.661218</td>\n",
       "      <td>2.876736e+09</td>\n",
       "      <td>3.673681e+05</td>\n",
       "      <td>0.926299</td>\n",
       "      <td>0.768984</td>\n",
       "      <td>918.106125</td>\n",
       "      <td>4.141264e+04</td>\n",
       "      <td>0.539683</td>\n",
       "      <td>827.759761</td>\n",
       "      <td>29.375234</td>\n",
       "      <td>399.946414</td>\n",
       "      <td>53.513072</td>\n",
       "      <td>0.138552</td>\n",
       "      <td>0.140724</td>\n",
       "      <td>685.230472</td>\n",
       "      <td>27274.441950</td>\n",
       "      <td>0.020441</td>\n",
       "      <td>0.031710</td>\n",
       "      <td>0.008436</td>\n",
       "      <td>0.025022</td>\n",
       "    </tr>\n",
       "    <tr>\n",
       "      <th>min</th>\n",
       "      <td>0.000000</td>\n",
       "      <td>1.000102e+06</td>\n",
       "      <td>7.800000e+04</td>\n",
       "      <td>1.000000</td>\n",
       "      <td>0.500000</td>\n",
       "      <td>370.000000</td>\n",
       "      <td>5.200000e+02</td>\n",
       "      <td>1.000000</td>\n",
       "      <td>370.000000</td>\n",
       "      <td>1900.000000</td>\n",
       "      <td>0.000000</td>\n",
       "      <td>98001.000000</td>\n",
       "      <td>47.155900</td>\n",
       "      <td>-122.519000</td>\n",
       "      <td>399.000000</td>\n",
       "      <td>651.000000</td>\n",
       "      <td>0.000513</td>\n",
       "      <td>0.000391</td>\n",
       "      <td>0.000095</td>\n",
       "      <td>0.000199</td>\n",
       "    </tr>\n",
       "    <tr>\n",
       "      <th>25%</th>\n",
       "      <td>5399.000000</td>\n",
       "      <td>2.123049e+09</td>\n",
       "      <td>3.220000e+05</td>\n",
       "      <td>3.000000</td>\n",
       "      <td>1.750000</td>\n",
       "      <td>1430.000000</td>\n",
       "      <td>5.040000e+03</td>\n",
       "      <td>1.000000</td>\n",
       "      <td>1190.000000</td>\n",
       "      <td>1951.000000</td>\n",
       "      <td>0.000000</td>\n",
       "      <td>98033.000000</td>\n",
       "      <td>47.471100</td>\n",
       "      <td>-122.328000</td>\n",
       "      <td>1490.000000</td>\n",
       "      <td>5100.000000</td>\n",
       "      <td>0.017375</td>\n",
       "      <td>0.013755</td>\n",
       "      <td>0.004333</td>\n",
       "      <td>0.017622</td>\n",
       "    </tr>\n",
       "    <tr>\n",
       "      <th>50%</th>\n",
       "      <td>10798.000000</td>\n",
       "      <td>3.904930e+09</td>\n",
       "      <td>4.500000e+05</td>\n",
       "      <td>3.000000</td>\n",
       "      <td>2.250000</td>\n",
       "      <td>1910.000000</td>\n",
       "      <td>7.618000e+03</td>\n",
       "      <td>1.500000</td>\n",
       "      <td>1560.000000</td>\n",
       "      <td>1975.000000</td>\n",
       "      <td>0.000000</td>\n",
       "      <td>98065.000000</td>\n",
       "      <td>47.571800</td>\n",
       "      <td>-122.231000</td>\n",
       "      <td>1840.000000</td>\n",
       "      <td>7620.000000</td>\n",
       "      <td>0.027048</td>\n",
       "      <td>0.022427</td>\n",
       "      <td>0.006740</td>\n",
       "      <td>0.028935</td>\n",
       "    </tr>\n",
       "    <tr>\n",
       "      <th>75%</th>\n",
       "      <td>16197.000000</td>\n",
       "      <td>7.308900e+09</td>\n",
       "      <td>6.450000e+05</td>\n",
       "      <td>4.000000</td>\n",
       "      <td>2.500000</td>\n",
       "      <td>2550.000000</td>\n",
       "      <td>1.068500e+04</td>\n",
       "      <td>2.000000</td>\n",
       "      <td>2210.000000</td>\n",
       "      <td>1997.000000</td>\n",
       "      <td>0.000000</td>\n",
       "      <td>98118.000000</td>\n",
       "      <td>47.678000</td>\n",
       "      <td>-122.125000</td>\n",
       "      <td>2360.000000</td>\n",
       "      <td>10083.000000</td>\n",
       "      <td>0.039464</td>\n",
       "      <td>0.036966</td>\n",
       "      <td>0.010209</td>\n",
       "      <td>0.045282</td>\n",
       "    </tr>\n",
       "    <tr>\n",
       "      <th>max</th>\n",
       "      <td>21596.000000</td>\n",
       "      <td>9.900000e+09</td>\n",
       "      <td>7.700000e+06</td>\n",
       "      <td>33.000000</td>\n",
       "      <td>8.000000</td>\n",
       "      <td>13540.000000</td>\n",
       "      <td>1.651359e+06</td>\n",
       "      <td>3.500000</td>\n",
       "      <td>9410.000000</td>\n",
       "      <td>2015.000000</td>\n",
       "      <td>2015.000000</td>\n",
       "      <td>98199.000000</td>\n",
       "      <td>47.777600</td>\n",
       "      <td>-121.315000</td>\n",
       "      <td>6210.000000</td>\n",
       "      <td>871200.000000</td>\n",
       "      <td>0.339291</td>\n",
       "      <td>0.604612</td>\n",
       "      <td>0.325079</td>\n",
       "      <td>0.519270</td>\n",
       "    </tr>\n",
       "  </tbody>\n",
       "</table>\n",
       "</div>"
      ],
      "text/plain": [
       "         Unnamed: 0            id         price      bedrooms     bathrooms  \\\n",
       "count  21597.000000  2.159700e+04  2.159700e+04  21597.000000  21597.000000   \n",
       "mean   10798.000000  4.580474e+09  5.402966e+05      3.373200      2.115826   \n",
       "std     6234.661218  2.876736e+09  3.673681e+05      0.926299      0.768984   \n",
       "min        0.000000  1.000102e+06  7.800000e+04      1.000000      0.500000   \n",
       "25%     5399.000000  2.123049e+09  3.220000e+05      3.000000      1.750000   \n",
       "50%    10798.000000  3.904930e+09  4.500000e+05      3.000000      2.250000   \n",
       "75%    16197.000000  7.308900e+09  6.450000e+05      4.000000      2.500000   \n",
       "max    21596.000000  9.900000e+09  7.700000e+06     33.000000      8.000000   \n",
       "\n",
       "        sqft_living      sqft_lot        floors    sqft_above      yr_built  \\\n",
       "count  21597.000000  2.159700e+04  21597.000000  21597.000000  21597.000000   \n",
       "mean    2080.321850  1.509941e+04      1.494096   1788.596842   1970.999676   \n",
       "std      918.106125  4.141264e+04      0.539683    827.759761     29.375234   \n",
       "min      370.000000  5.200000e+02      1.000000    370.000000   1900.000000   \n",
       "25%     1430.000000  5.040000e+03      1.000000   1190.000000   1951.000000   \n",
       "50%     1910.000000  7.618000e+03      1.500000   1560.000000   1975.000000   \n",
       "75%     2550.000000  1.068500e+04      2.000000   2210.000000   1997.000000   \n",
       "max    13540.000000  1.651359e+06      3.500000   9410.000000   2015.000000   \n",
       "\n",
       "       yr_renovated       zipcode           lat          long  sqft_living15  \\\n",
       "count  17755.000000  21597.000000  21597.000000  21597.000000   21597.000000   \n",
       "mean      83.636778  98077.951845     47.560093   -122.213982    1986.620318   \n",
       "std      399.946414     53.513072      0.138552      0.140724     685.230472   \n",
       "min        0.000000  98001.000000     47.155900   -122.519000     399.000000   \n",
       "25%        0.000000  98033.000000     47.471100   -122.328000    1490.000000   \n",
       "50%        0.000000  98065.000000     47.571800   -122.231000    1840.000000   \n",
       "75%        0.000000  98118.000000     47.678000   -122.125000    2360.000000   \n",
       "max     2015.000000  98199.000000     47.777600   -121.315000    6210.000000   \n",
       "\n",
       "          sqft_lot15   police_dist  medical_dist   school_dist  \\\n",
       "count   21597.000000  21597.000000  21597.000000  21597.000000   \n",
       "mean    12758.283512      0.030966      0.030646      0.008650   \n",
       "std     27274.441950      0.020441      0.031710      0.008436   \n",
       "min       651.000000      0.000513      0.000391      0.000095   \n",
       "25%      5100.000000      0.017375      0.013755      0.004333   \n",
       "50%      7620.000000      0.027048      0.022427      0.006740   \n",
       "75%     10083.000000      0.039464      0.036966      0.010209   \n",
       "max    871200.000000      0.339291      0.604612      0.325079   \n",
       "\n",
       "       farmers_market_dist  \n",
       "count         21597.000000  \n",
       "mean              0.034153  \n",
       "std               0.025022  \n",
       "min               0.000199  \n",
       "25%               0.017622  \n",
       "50%               0.028935  \n",
       "75%               0.045282  \n",
       "max               0.519270  "
      ]
     },
     "execution_count": 163,
     "metadata": {},
     "output_type": "execute_result"
    }
   ],
   "source": [
    "df.describe()"
   ]
  },
  {
   "cell_type": "code",
   "execution_count": 164,
   "metadata": {},
   "outputs": [
    {
     "data": {
      "text/html": [
       "<div>\n",
       "<style scoped>\n",
       "    .dataframe tbody tr th:only-of-type {\n",
       "        vertical-align: middle;\n",
       "    }\n",
       "\n",
       "    .dataframe tbody tr th {\n",
       "        vertical-align: top;\n",
       "    }\n",
       "\n",
       "    .dataframe thead th {\n",
       "        text-align: right;\n",
       "    }\n",
       "</style>\n",
       "<table border=\"1\" class=\"dataframe\">\n",
       "  <thead>\n",
       "    <tr style=\"text-align: right;\">\n",
       "      <th></th>\n",
       "      <th>Unnamed: 0</th>\n",
       "      <th>id</th>\n",
       "      <th>date</th>\n",
       "      <th>price</th>\n",
       "      <th>bedrooms</th>\n",
       "      <th>bathrooms</th>\n",
       "      <th>sqft_living</th>\n",
       "      <th>sqft_lot</th>\n",
       "      <th>floors</th>\n",
       "      <th>waterfront</th>\n",
       "      <th>...</th>\n",
       "      <th>sqft_lot15</th>\n",
       "      <th>geometry</th>\n",
       "      <th>police_dist</th>\n",
       "      <th>police_station_name</th>\n",
       "      <th>medical_dist</th>\n",
       "      <th>medical_name</th>\n",
       "      <th>school_dist</th>\n",
       "      <th>school_name</th>\n",
       "      <th>farmers_market_dist</th>\n",
       "      <th>farmers_market_name</th>\n",
       "    </tr>\n",
       "  </thead>\n",
       "  <tbody>\n",
       "    <tr>\n",
       "      <th>0</th>\n",
       "      <td>0</td>\n",
       "      <td>7129300520</td>\n",
       "      <td>10/13/2014</td>\n",
       "      <td>221900.0</td>\n",
       "      <td>3</td>\n",
       "      <td>1.00</td>\n",
       "      <td>1180</td>\n",
       "      <td>5650</td>\n",
       "      <td>1.0</td>\n",
       "      <td>NaN</td>\n",
       "      <td>...</td>\n",
       "      <td>5650</td>\n",
       "      <td>POINT (-122.257 47.5112)</td>\n",
       "      <td>0.027330</td>\n",
       "      <td>West Hill Storefront</td>\n",
       "      <td>0.045415</td>\n",
       "      <td>Highline Medical Center Speciality Campus</td>\n",
       "      <td>0.002777</td>\n",
       "      <td>Amazing Grace Christian School</td>\n",
       "      <td>0.045049</td>\n",
       "      <td>Tukwila Village Farmers Market</td>\n",
       "    </tr>\n",
       "    <tr>\n",
       "      <th>1</th>\n",
       "      <td>1</td>\n",
       "      <td>6414100192</td>\n",
       "      <td>12/9/2014</td>\n",
       "      <td>538000.0</td>\n",
       "      <td>3</td>\n",
       "      <td>2.25</td>\n",
       "      <td>2570</td>\n",
       "      <td>7242</td>\n",
       "      <td>2.0</td>\n",
       "      <td>NO</td>\n",
       "      <td>...</td>\n",
       "      <td>7639</td>\n",
       "      <td>POINT (-122.319 47.721)</td>\n",
       "      <td>0.023986</td>\n",
       "      <td>Seattle Police North Precinct</td>\n",
       "      <td>0.014602</td>\n",
       "      <td>Kindred Hospital Seattle - Northgate</td>\n",
       "      <td>0.005230</td>\n",
       "      <td>St. Matthew School</td>\n",
       "      <td>0.021050</td>\n",
       "      <td>Lake City Farmers Market</td>\n",
       "    </tr>\n",
       "    <tr>\n",
       "      <th>2</th>\n",
       "      <td>2</td>\n",
       "      <td>5631500400</td>\n",
       "      <td>2/25/2015</td>\n",
       "      <td>180000.0</td>\n",
       "      <td>2</td>\n",
       "      <td>1.00</td>\n",
       "      <td>770</td>\n",
       "      <td>10000</td>\n",
       "      <td>1.0</td>\n",
       "      <td>NO</td>\n",
       "      <td>...</td>\n",
       "      <td>8062</td>\n",
       "      <td>POINT (-122.233 47.7379)</td>\n",
       "      <td>0.027925</td>\n",
       "      <td>Kenmore Police Department</td>\n",
       "      <td>0.034020</td>\n",
       "      <td>Fairfax Hospital</td>\n",
       "      <td>0.002265</td>\n",
       "      <td>Moorlands Elementary School</td>\n",
       "      <td>0.037623</td>\n",
       "      <td>Juanita Friday Market</td>\n",
       "    </tr>\n",
       "    <tr>\n",
       "      <th>3</th>\n",
       "      <td>3</td>\n",
       "      <td>2487200875</td>\n",
       "      <td>12/9/2014</td>\n",
       "      <td>604000.0</td>\n",
       "      <td>4</td>\n",
       "      <td>3.00</td>\n",
       "      <td>1960</td>\n",
       "      <td>5000</td>\n",
       "      <td>1.0</td>\n",
       "      <td>NO</td>\n",
       "      <td>...</td>\n",
       "      <td>5000</td>\n",
       "      <td>POINT (-122.393 47.5208)</td>\n",
       "      <td>0.034575</td>\n",
       "      <td>Seattle Police Southwest Precinct</td>\n",
       "      <td>0.029929</td>\n",
       "      <td>Navos Mental Health Solutions</td>\n",
       "      <td>0.018994</td>\n",
       "      <td>Arbor Heights Elementary School</td>\n",
       "      <td>0.040609</td>\n",
       "      <td>West Seattle Farmers Market</td>\n",
       "    </tr>\n",
       "    <tr>\n",
       "      <th>4</th>\n",
       "      <td>4</td>\n",
       "      <td>1954400510</td>\n",
       "      <td>2/18/2015</td>\n",
       "      <td>510000.0</td>\n",
       "      <td>3</td>\n",
       "      <td>2.00</td>\n",
       "      <td>1680</td>\n",
       "      <td>8080</td>\n",
       "      <td>1.0</td>\n",
       "      <td>NO</td>\n",
       "      <td>...</td>\n",
       "      <td>7503</td>\n",
       "      <td>POINT (-122.045 47.6168)</td>\n",
       "      <td>0.017513</td>\n",
       "      <td>Sammamish Police Department</td>\n",
       "      <td>0.034583</td>\n",
       "      <td>Swedish Pine Lake Primary Care</td>\n",
       "      <td>0.011937</td>\n",
       "      <td>Margaret Mead Elementary School</td>\n",
       "      <td>0.045950</td>\n",
       "      <td>Sammamish Farmers Market</td>\n",
       "    </tr>\n",
       "  </tbody>\n",
       "</table>\n",
       "<p>5 rows × 31 columns</p>\n",
       "</div>"
      ],
      "text/plain": [
       "   Unnamed: 0          id        date     price  bedrooms  bathrooms  \\\n",
       "0           0  7129300520  10/13/2014  221900.0         3       1.00   \n",
       "1           1  6414100192   12/9/2014  538000.0         3       2.25   \n",
       "2           2  5631500400   2/25/2015  180000.0         2       1.00   \n",
       "3           3  2487200875   12/9/2014  604000.0         4       3.00   \n",
       "4           4  1954400510   2/18/2015  510000.0         3       2.00   \n",
       "\n",
       "   sqft_living  sqft_lot  floors waterfront  ... sqft_lot15  \\\n",
       "0         1180      5650     1.0        NaN  ...       5650   \n",
       "1         2570      7242     2.0         NO  ...       7639   \n",
       "2          770     10000     1.0         NO  ...       8062   \n",
       "3         1960      5000     1.0         NO  ...       5000   \n",
       "4         1680      8080     1.0         NO  ...       7503   \n",
       "\n",
       "                   geometry police_dist                police_station_name  \\\n",
       "0  POINT (-122.257 47.5112)    0.027330               West Hill Storefront   \n",
       "1   POINT (-122.319 47.721)    0.023986      Seattle Police North Precinct   \n",
       "2  POINT (-122.233 47.7379)    0.027925          Kenmore Police Department   \n",
       "3  POINT (-122.393 47.5208)    0.034575  Seattle Police Southwest Precinct   \n",
       "4  POINT (-122.045 47.6168)    0.017513        Sammamish Police Department   \n",
       "\n",
       "  medical_dist                               medical_name  school_dist  \\\n",
       "0     0.045415  Highline Medical Center Speciality Campus     0.002777   \n",
       "1     0.014602       Kindred Hospital Seattle - Northgate     0.005230   \n",
       "2     0.034020                           Fairfax Hospital     0.002265   \n",
       "3     0.029929              Navos Mental Health Solutions     0.018994   \n",
       "4     0.034583             Swedish Pine Lake Primary Care     0.011937   \n",
       "\n",
       "                       school_name  farmers_market_dist  \\\n",
       "0   Amazing Grace Christian School             0.045049   \n",
       "1               St. Matthew School             0.021050   \n",
       "2      Moorlands Elementary School             0.037623   \n",
       "3  Arbor Heights Elementary School             0.040609   \n",
       "4  Margaret Mead Elementary School             0.045950   \n",
       "\n",
       "              farmers_market_name  \n",
       "0  Tukwila Village Farmers Market  \n",
       "1        Lake City Farmers Market  \n",
       "2           Juanita Friday Market  \n",
       "3     West Seattle Farmers Market  \n",
       "4        Sammamish Farmers Market  \n",
       "\n",
       "[5 rows x 31 columns]"
      ]
     },
     "execution_count": 164,
     "metadata": {},
     "output_type": "execute_result"
    }
   ],
   "source": [
    "df.head()"
   ]
  },
  {
   "cell_type": "markdown",
   "metadata": {},
   "source": [
    "### Bedrooms"
   ]
  },
  {
   "cell_type": "code",
   "execution_count": 165,
   "metadata": {},
   "outputs": [
    {
     "data": {
      "text/plain": [
       "1      196\n",
       "2     2760\n",
       "3     9824\n",
       "4     6882\n",
       "5     1601\n",
       "6      272\n",
       "7       38\n",
       "8       13\n",
       "9        6\n",
       "10       3\n",
       "11       1\n",
       "33       1\n",
       "Name: bedrooms, dtype: int64"
      ]
     },
     "execution_count": 165,
     "metadata": {},
     "output_type": "execute_result"
    }
   ],
   "source": [
    "df['bedrooms'].value_counts().sort_index()"
   ]
  },
  {
   "cell_type": "code",
   "execution_count": 166,
   "metadata": {
    "scrolled": true
   },
   "outputs": [
    {
     "data": {
      "text/plain": [
       "1     196\n",
       "2    2760\n",
       "3    9824\n",
       "4    6882\n",
       "5    1601\n",
       "Name: bedrooms, dtype: int64"
      ]
     },
     "execution_count": 166,
     "metadata": {},
     "output_type": "execute_result"
    }
   ],
   "source": [
    "# dropping any larger then five, presumption being >5 not single family\n",
    "df = df[df['bedrooms']<6]\n",
    "df['bedrooms'].value_counts().sort_index()"
   ]
  },
  {
   "cell_type": "code",
   "execution_count": 167,
   "metadata": {},
   "outputs": [
    {
     "name": "stdout",
     "output_type": "stream",
     "text": [
      "<class 'pandas.core.frame.DataFrame'>\n",
      "Int64Index: 21263 entries, 0 to 21596\n",
      "Data columns (total 31 columns):\n",
      " #   Column               Non-Null Count  Dtype  \n",
      "---  ------               --------------  -----  \n",
      " 0   Unnamed: 0           21263 non-null  int64  \n",
      " 1   id                   21263 non-null  int64  \n",
      " 2   date                 21263 non-null  object \n",
      " 3   price                21263 non-null  float64\n",
      " 4   bedrooms             21263 non-null  int64  \n",
      " 5   bathrooms            21263 non-null  float64\n",
      " 6   sqft_living          21263 non-null  int64  \n",
      " 7   sqft_lot             21263 non-null  int64  \n",
      " 8   floors               21263 non-null  float64\n",
      " 9   waterfront           18937 non-null  object \n",
      " 10  view                 21202 non-null  object \n",
      " 11  condition            21263 non-null  object \n",
      " 12  grade                21263 non-null  object \n",
      " 13  sqft_above           21263 non-null  int64  \n",
      " 14  sqft_basement        21263 non-null  object \n",
      " 15  yr_built             21263 non-null  int64  \n",
      " 16  yr_renovated         17473 non-null  float64\n",
      " 17  zipcode              21263 non-null  int64  \n",
      " 18  lat                  21263 non-null  float64\n",
      " 19  long                 21263 non-null  float64\n",
      " 20  sqft_living15        21263 non-null  int64  \n",
      " 21  sqft_lot15           21263 non-null  int64  \n",
      " 22  geometry             21263 non-null  object \n",
      " 23  police_dist          21263 non-null  float64\n",
      " 24  police_station_name  21263 non-null  object \n",
      " 25  medical_dist         21263 non-null  float64\n",
      " 26  medical_name         21263 non-null  object \n",
      " 27  school_dist          21263 non-null  float64\n",
      " 28  school_name          21263 non-null  object \n",
      " 29  farmers_market_dist  21263 non-null  float64\n",
      " 30  farmers_market_name  21263 non-null  object \n",
      "dtypes: float64(10), int64(10), object(11)\n",
      "memory usage: 5.2+ MB\n"
     ]
    }
   ],
   "source": [
    "df.info()"
   ]
  },
  {
   "cell_type": "markdown",
   "metadata": {},
   "source": [
    "### Bathrooms "
   ]
  },
  {
   "cell_type": "code",
   "execution_count": 168,
   "metadata": {},
   "outputs": [
    {
     "data": {
      "text/plain": [
       "0.50       4\n",
       "0.75      71\n",
       "1.00    3844\n",
       "1.25       9\n",
       "1.50    1437\n",
       "1.75    3031\n",
       "2.00    1905\n",
       "2.25    2029\n",
       "2.50    5345\n",
       "2.75    1148\n",
       "3.00     699\n",
       "3.25     575\n",
       "3.50     708\n",
       "3.75     139\n",
       "4.00     117\n",
       "4.25      69\n",
       "4.50      72\n",
       "4.75      18\n",
       "5.00      14\n",
       "5.25       9\n",
       "5.50       9\n",
       "5.75       3\n",
       "6.00       4\n",
       "6.25       2\n",
       "6.50       1\n",
       "6.75       1\n",
       "Name: bathrooms, dtype: int64"
      ]
     },
     "execution_count": 168,
     "metadata": {},
     "output_type": "execute_result"
    }
   ],
   "source": [
    "df['bathrooms'].value_counts().sort_index()"
   ]
  },
  {
   "cell_type": "code",
   "execution_count": 169,
   "metadata": {},
   "outputs": [
    {
     "data": {
      "text/plain": [
       "0.50       4\n",
       "0.75      71\n",
       "1.00    3844\n",
       "1.25       9\n",
       "1.50    1437\n",
       "1.75    3031\n",
       "2.00    1905\n",
       "2.25    2029\n",
       "2.50    5345\n",
       "2.75    1148\n",
       "3.00     699\n",
       "3.25     575\n",
       "3.50     708\n",
       "3.75     139\n",
       "4.00     117\n",
       "Name: bathrooms, dtype: int64"
      ]
     },
     "execution_count": 169,
     "metadata": {},
     "output_type": "execute_result"
    }
   ],
   "source": [
    "# clearing out bathrooms over 4 - given distribution these are outliers \n",
    "\n",
    "df = df[df['bathrooms']<=4]\n",
    "df['bathrooms'].value_counts().sort_index()"
   ]
  },
  {
   "cell_type": "code",
   "execution_count": 170,
   "metadata": {},
   "outputs": [
    {
     "data": {
      "text/plain": [
       "1.00    3844\n",
       "1.25       9\n",
       "1.50    1437\n",
       "1.75    3031\n",
       "2.00    1905\n",
       "2.25    2029\n",
       "2.50    5345\n",
       "2.75    1148\n",
       "3.00     699\n",
       "3.25     575\n",
       "3.50     708\n",
       "3.75     139\n",
       "4.00     117\n",
       "Name: bathrooms, dtype: int64"
      ]
     },
     "execution_count": 170,
     "metadata": {},
     "output_type": "execute_result"
    }
   ],
   "source": [
    "df = df[df['bathrooms']>=1]\n",
    "df['bathrooms'].value_counts().sort_index()"
   ]
  },
  {
   "cell_type": "code",
   "execution_count": 171,
   "metadata": {},
   "outputs": [
    {
     "name": "stdout",
     "output_type": "stream",
     "text": [
      "<class 'pandas.core.frame.DataFrame'>\n",
      "Int64Index: 20986 entries, 0 to 21595\n",
      "Data columns (total 31 columns):\n",
      " #   Column               Non-Null Count  Dtype  \n",
      "---  ------               --------------  -----  \n",
      " 0   Unnamed: 0           20986 non-null  int64  \n",
      " 1   id                   20986 non-null  int64  \n",
      " 2   date                 20986 non-null  object \n",
      " 3   price                20986 non-null  float64\n",
      " 4   bedrooms             20986 non-null  int64  \n",
      " 5   bathrooms            20986 non-null  float64\n",
      " 6   sqft_living          20986 non-null  int64  \n",
      " 7   sqft_lot             20986 non-null  int64  \n",
      " 8   floors               20986 non-null  float64\n",
      " 9   waterfront           18683 non-null  object \n",
      " 10  view                 20927 non-null  object \n",
      " 11  condition            20986 non-null  object \n",
      " 12  grade                20986 non-null  object \n",
      " 13  sqft_above           20986 non-null  int64  \n",
      " 14  sqft_basement        20986 non-null  object \n",
      " 15  yr_built             20986 non-null  int64  \n",
      " 16  yr_renovated         17247 non-null  float64\n",
      " 17  zipcode              20986 non-null  int64  \n",
      " 18  lat                  20986 non-null  float64\n",
      " 19  long                 20986 non-null  float64\n",
      " 20  sqft_living15        20986 non-null  int64  \n",
      " 21  sqft_lot15           20986 non-null  int64  \n",
      " 22  geometry             20986 non-null  object \n",
      " 23  police_dist          20986 non-null  float64\n",
      " 24  police_station_name  20986 non-null  object \n",
      " 25  medical_dist         20986 non-null  float64\n",
      " 26  medical_name         20986 non-null  object \n",
      " 27  school_dist          20986 non-null  float64\n",
      " 28  school_name          20986 non-null  object \n",
      " 29  farmers_market_dist  20986 non-null  float64\n",
      " 30  farmers_market_name  20986 non-null  object \n",
      "dtypes: float64(10), int64(10), object(11)\n",
      "memory usage: 5.1+ MB\n"
     ]
    }
   ],
   "source": [
    "df.info()"
   ]
  },
  {
   "cell_type": "markdown",
   "metadata": {},
   "source": [
    "### Waterfront"
   ]
  },
  {
   "cell_type": "code",
   "execution_count": 172,
   "metadata": {},
   "outputs": [
    {
     "data": {
      "text/plain": [
       "NO     18561\n",
       "YES      122\n",
       "Name: waterfront, dtype: int64"
      ]
     },
     "execution_count": 172,
     "metadata": {},
     "output_type": "execute_result"
    }
   ],
   "source": [
    "df['waterfront'].value_counts()\n",
    "# SO few houses meet this criteria it is immaterial "
   ]
  },
  {
   "cell_type": "code",
   "execution_count": 173,
   "metadata": {},
   "outputs": [],
   "source": [
    "df = df.drop(columns = 'waterfront')\n"
   ]
  },
  {
   "cell_type": "code",
   "execution_count": 174,
   "metadata": {},
   "outputs": [
    {
     "name": "stdout",
     "output_type": "stream",
     "text": [
      "<class 'pandas.core.frame.DataFrame'>\n",
      "Int64Index: 20986 entries, 0 to 21595\n",
      "Data columns (total 30 columns):\n",
      " #   Column               Non-Null Count  Dtype  \n",
      "---  ------               --------------  -----  \n",
      " 0   Unnamed: 0           20986 non-null  int64  \n",
      " 1   id                   20986 non-null  int64  \n",
      " 2   date                 20986 non-null  object \n",
      " 3   price                20986 non-null  float64\n",
      " 4   bedrooms             20986 non-null  int64  \n",
      " 5   bathrooms            20986 non-null  float64\n",
      " 6   sqft_living          20986 non-null  int64  \n",
      " 7   sqft_lot             20986 non-null  int64  \n",
      " 8   floors               20986 non-null  float64\n",
      " 9   view                 20927 non-null  object \n",
      " 10  condition            20986 non-null  object \n",
      " 11  grade                20986 non-null  object \n",
      " 12  sqft_above           20986 non-null  int64  \n",
      " 13  sqft_basement        20986 non-null  object \n",
      " 14  yr_built             20986 non-null  int64  \n",
      " 15  yr_renovated         17247 non-null  float64\n",
      " 16  zipcode              20986 non-null  int64  \n",
      " 17  lat                  20986 non-null  float64\n",
      " 18  long                 20986 non-null  float64\n",
      " 19  sqft_living15        20986 non-null  int64  \n",
      " 20  sqft_lot15           20986 non-null  int64  \n",
      " 21  geometry             20986 non-null  object \n",
      " 22  police_dist          20986 non-null  float64\n",
      " 23  police_station_name  20986 non-null  object \n",
      " 24  medical_dist         20986 non-null  float64\n",
      " 25  medical_name         20986 non-null  object \n",
      " 26  school_dist          20986 non-null  float64\n",
      " 27  school_name          20986 non-null  object \n",
      " 28  farmers_market_dist  20986 non-null  float64\n",
      " 29  farmers_market_name  20986 non-null  object \n",
      "dtypes: float64(10), int64(10), object(10)\n",
      "memory usage: 5.0+ MB\n"
     ]
    }
   ],
   "source": [
    "df.info()"
   ]
  },
  {
   "cell_type": "markdown",
   "metadata": {},
   "source": [
    "### Floors\n",
    "\n",
    "- while only a few of the maximum value their assocated values were not outliers so keeping and not changing column "
   ]
  },
  {
   "cell_type": "code",
   "execution_count": 175,
   "metadata": {},
   "outputs": [
    {
     "data": {
      "text/plain": [
       "1.0    10471\n",
       "1.5     1864\n",
       "2.0     7912\n",
       "2.5      136\n",
       "3.0      597\n",
       "3.5        6\n",
       "Name: floors, dtype: int64"
      ]
     },
     "execution_count": 175,
     "metadata": {},
     "output_type": "execute_result"
    }
   ],
   "source": [
    "df['floors'].value_counts().sort_index()"
   ]
  },
  {
   "cell_type": "markdown",
   "metadata": {},
   "source": [
    "### View \n",
    "\n",
    "Binning View column into new Boolean 'view_y_n' \n",
    "\n",
    "0 = No View\n",
    "\n",
    "1 = View of indeterminate quality |"
   ]
  },
  {
   "cell_type": "code",
   "execution_count": 176,
   "metadata": {},
   "outputs": [
    {
     "data": {
      "text/plain": [
       "NONE         18976\n",
       "AVERAGE        897\n",
       "GOOD           465\n",
       "FAIR           315\n",
       "EXCELLENT      274\n",
       "Name: view, dtype: int64"
      ]
     },
     "execution_count": 176,
     "metadata": {},
     "output_type": "execute_result"
    }
   ],
   "source": [
    "df['view'].value_counts()\n",
    "\n",
    "# Given distribution worth keeping? BIN THIS NO VIEW V SOME VIEW "
   ]
  },
  {
   "cell_type": "code",
   "execution_count": 177,
   "metadata": {},
   "outputs": [],
   "source": [
    "df['view_y_n'] = df['view'].map(lambda x: 0 if x =='NONE' else 1)\n"
   ]
  },
  {
   "cell_type": "code",
   "execution_count": 178,
   "metadata": {},
   "outputs": [
    {
     "data": {
      "text/plain": [
       "0    18976\n",
       "1     2010\n",
       "Name: view_y_n, dtype: int64"
      ]
     },
     "execution_count": 178,
     "metadata": {},
     "output_type": "execute_result"
    }
   ],
   "source": [
    "df['view_y_n'].value_counts()"
   ]
  },
  {
   "cell_type": "code",
   "execution_count": 179,
   "metadata": {},
   "outputs": [
    {
     "name": "stdout",
     "output_type": "stream",
     "text": [
      "<class 'pandas.core.frame.DataFrame'>\n",
      "Int64Index: 20986 entries, 0 to 21595\n",
      "Data columns (total 30 columns):\n",
      " #   Column               Non-Null Count  Dtype  \n",
      "---  ------               --------------  -----  \n",
      " 0   Unnamed: 0           20986 non-null  int64  \n",
      " 1   id                   20986 non-null  int64  \n",
      " 2   date                 20986 non-null  object \n",
      " 3   price                20986 non-null  float64\n",
      " 4   bedrooms             20986 non-null  int64  \n",
      " 5   bathrooms            20986 non-null  float64\n",
      " 6   sqft_living          20986 non-null  int64  \n",
      " 7   sqft_lot             20986 non-null  int64  \n",
      " 8   floors               20986 non-null  float64\n",
      " 9   condition            20986 non-null  object \n",
      " 10  grade                20986 non-null  object \n",
      " 11  sqft_above           20986 non-null  int64  \n",
      " 12  sqft_basement        20986 non-null  object \n",
      " 13  yr_built             20986 non-null  int64  \n",
      " 14  yr_renovated         17247 non-null  float64\n",
      " 15  zipcode              20986 non-null  int64  \n",
      " 16  lat                  20986 non-null  float64\n",
      " 17  long                 20986 non-null  float64\n",
      " 18  sqft_living15        20986 non-null  int64  \n",
      " 19  sqft_lot15           20986 non-null  int64  \n",
      " 20  geometry             20986 non-null  object \n",
      " 21  police_dist          20986 non-null  float64\n",
      " 22  police_station_name  20986 non-null  object \n",
      " 23  medical_dist         20986 non-null  float64\n",
      " 24  medical_name         20986 non-null  object \n",
      " 25  school_dist          20986 non-null  float64\n",
      " 26  school_name          20986 non-null  object \n",
      " 27  farmers_market_dist  20986 non-null  float64\n",
      " 28  farmers_market_name  20986 non-null  object \n",
      " 29  view_y_n             20986 non-null  int64  \n",
      "dtypes: float64(10), int64(11), object(9)\n",
      "memory usage: 5.0+ MB\n"
     ]
    }
   ],
   "source": [
    "df = df.drop(columns = 'view')\n",
    "df.info()"
   ]
  },
  {
   "cell_type": "markdown",
   "metadata": {},
   "source": [
    "### Grade \n",
    "\n",
    "Removing Luxury and Mansion lines as definition unclear compared to other grades, Removing Low as only 14 houses meet criteria.  KEEPING SINGLE FAMILY HOUSE IN MIND AS WHAT THIS TABLE IS REPPING "
   ]
  },
  {
   "cell_type": "code",
   "execution_count": 180,
   "metadata": {},
   "outputs": [
    {
     "data": {
      "text/plain": [
       "7 Average        8829\n",
       "8 Good           5947\n",
       "9 Better         2556\n",
       "6 Low Average    2002\n",
       "10 Very Good     1043\n",
       "11 Excellent      310\n",
       "5 Fair            224\n",
       "12 Luxury          57\n",
       "4 Low              14\n",
       "13 Mansion          4\n",
       "Name: grade, dtype: int64"
      ]
     },
     "execution_count": 180,
     "metadata": {},
     "output_type": "execute_result"
    }
   ],
   "source": [
    "df['grade'].value_counts()"
   ]
  },
  {
   "cell_type": "code",
   "execution_count": 181,
   "metadata": {},
   "outputs": [],
   "source": [
    "df = df[(df['grade'] != '13 Mansion') & (df['grade'] != '12 Luxury') & (df['grade'] != '4 Low')]\n",
    "\n",
    "    "
   ]
  },
  {
   "cell_type": "code",
   "execution_count": 182,
   "metadata": {
    "scrolled": true
   },
   "outputs": [
    {
     "data": {
      "text/plain": [
       "7 Average        8829\n",
       "8 Good           5947\n",
       "9 Better         2556\n",
       "6 Low Average    2002\n",
       "10 Very Good     1043\n",
       "11 Excellent      310\n",
       "5 Fair            224\n",
       "Name: grade, dtype: int64"
      ]
     },
     "execution_count": 182,
     "metadata": {},
     "output_type": "execute_result"
    }
   ],
   "source": [
    "df['grade'].value_counts()"
   ]
  },
  {
   "cell_type": "code",
   "execution_count": null,
   "metadata": {},
   "outputs": [],
   "source": []
  },
  {
   "cell_type": "code",
   "execution_count": null,
   "metadata": {},
   "outputs": [],
   "source": []
  },
  {
   "cell_type": "code",
   "execution_count": null,
   "metadata": {},
   "outputs": [],
   "source": []
  },
  {
   "cell_type": "code",
   "execution_count": null,
   "metadata": {
    "scrolled": true
   },
   "outputs": [],
   "source": []
  },
  {
   "cell_type": "code",
   "execution_count": 183,
   "metadata": {},
   "outputs": [
    {
     "name": "stdout",
     "output_type": "stream",
     "text": [
      "<class 'pandas.core.frame.DataFrame'>\n",
      "Int64Index: 20911 entries, 0 to 21595\n",
      "Data columns (total 30 columns):\n",
      " #   Column               Non-Null Count  Dtype  \n",
      "---  ------               --------------  -----  \n",
      " 0   Unnamed: 0           20911 non-null  int64  \n",
      " 1   id                   20911 non-null  int64  \n",
      " 2   date                 20911 non-null  object \n",
      " 3   price                20911 non-null  float64\n",
      " 4   bedrooms             20911 non-null  int64  \n",
      " 5   bathrooms            20911 non-null  float64\n",
      " 6   sqft_living          20911 non-null  int64  \n",
      " 7   sqft_lot             20911 non-null  int64  \n",
      " 8   floors               20911 non-null  float64\n",
      " 9   condition            20911 non-null  object \n",
      " 10  grade                20911 non-null  object \n",
      " 11  sqft_above           20911 non-null  int64  \n",
      " 12  sqft_basement        20911 non-null  object \n",
      " 13  yr_built             20911 non-null  int64  \n",
      " 14  yr_renovated         17189 non-null  float64\n",
      " 15  zipcode              20911 non-null  int64  \n",
      " 16  lat                  20911 non-null  float64\n",
      " 17  long                 20911 non-null  float64\n",
      " 18  sqft_living15        20911 non-null  int64  \n",
      " 19  sqft_lot15           20911 non-null  int64  \n",
      " 20  geometry             20911 non-null  object \n",
      " 21  police_dist          20911 non-null  float64\n",
      " 22  police_station_name  20911 non-null  object \n",
      " 23  medical_dist         20911 non-null  float64\n",
      " 24  medical_name         20911 non-null  object \n",
      " 25  school_dist          20911 non-null  float64\n",
      " 26  school_name          20911 non-null  object \n",
      " 27  farmers_market_dist  20911 non-null  float64\n",
      " 28  farmers_market_name  20911 non-null  object \n",
      " 29  view_y_n             20911 non-null  int64  \n",
      "dtypes: float64(10), int64(11), object(9)\n",
      "memory usage: 4.9+ MB\n"
     ]
    }
   ],
   "source": [
    "df.info()"
   ]
  },
  {
   "cell_type": "code",
   "execution_count": 184,
   "metadata": {},
   "outputs": [
    {
     "data": {
      "text/plain": [
       "Int64Index([    0,     1,     2,     3,     4,     6,     7,     8,     9,\n",
       "               10,\n",
       "            ...\n",
       "            21585, 21586, 21587, 21588, 21589, 21590, 21591, 21592, 21593,\n",
       "            21595],\n",
       "           dtype='int64', length=20911)"
      ]
     },
     "execution_count": 184,
     "metadata": {},
     "output_type": "execute_result"
    }
   ],
   "source": [
    "df.index"
   ]
  },
  {
   "cell_type": "code",
   "execution_count": null,
   "metadata": {},
   "outputs": [],
   "source": [
    "\n"
   ]
  },
  {
   "cell_type": "code",
   "execution_count": null,
   "metadata": {},
   "outputs": [],
   "source": []
  },
  {
   "cell_type": "code",
   "execution_count": null,
   "metadata": {
    "scrolled": true
   },
   "outputs": [],
   "source": []
  },
  {
   "cell_type": "code",
   "execution_count": 185,
   "metadata": {},
   "outputs": [
    {
     "data": {
      "text/plain": [
       "(20911, 30)"
      ]
     },
     "execution_count": 185,
     "metadata": {},
     "output_type": "execute_result"
    }
   ],
   "source": [
    "df.shape"
   ]
  },
  {
   "cell_type": "code",
   "execution_count": null,
   "metadata": {},
   "outputs": [],
   "source": []
  },
  {
   "cell_type": "code",
   "execution_count": 186,
   "metadata": {},
   "outputs": [
    {
     "name": "stdout",
     "output_type": "stream",
     "text": [
      "<class 'pandas.core.frame.DataFrame'>\n",
      "Int64Index: 20911 entries, 0 to 21595\n",
      "Data columns (total 30 columns):\n",
      " #   Column               Non-Null Count  Dtype  \n",
      "---  ------               --------------  -----  \n",
      " 0   Unnamed: 0           20911 non-null  int64  \n",
      " 1   id                   20911 non-null  int64  \n",
      " 2   date                 20911 non-null  object \n",
      " 3   price                20911 non-null  float64\n",
      " 4   bedrooms             20911 non-null  int64  \n",
      " 5   bathrooms            20911 non-null  float64\n",
      " 6   sqft_living          20911 non-null  int64  \n",
      " 7   sqft_lot             20911 non-null  int64  \n",
      " 8   floors               20911 non-null  float64\n",
      " 9   condition            20911 non-null  object \n",
      " 10  grade                20911 non-null  object \n",
      " 11  sqft_above           20911 non-null  int64  \n",
      " 12  sqft_basement        20911 non-null  object \n",
      " 13  yr_built             20911 non-null  int64  \n",
      " 14  yr_renovated         17189 non-null  float64\n",
      " 15  zipcode              20911 non-null  int64  \n",
      " 16  lat                  20911 non-null  float64\n",
      " 17  long                 20911 non-null  float64\n",
      " 18  sqft_living15        20911 non-null  int64  \n",
      " 19  sqft_lot15           20911 non-null  int64  \n",
      " 20  geometry             20911 non-null  object \n",
      " 21  police_dist          20911 non-null  float64\n",
      " 22  police_station_name  20911 non-null  object \n",
      " 23  medical_dist         20911 non-null  float64\n",
      " 24  medical_name         20911 non-null  object \n",
      " 25  school_dist          20911 non-null  float64\n",
      " 26  school_name          20911 non-null  object \n",
      " 27  farmers_market_dist  20911 non-null  float64\n",
      " 28  farmers_market_name  20911 non-null  object \n",
      " 29  view_y_n             20911 non-null  int64  \n",
      "dtypes: float64(10), int64(11), object(9)\n",
      "memory usage: 4.9+ MB\n"
     ]
    }
   ],
   "source": [
    "df.info()"
   ]
  },
  {
   "cell_type": "markdown",
   "metadata": {},
   "source": [
    "### Year Renovated\n"
   ]
  },
  {
   "cell_type": "code",
   "execution_count": 187,
   "metadata": {
    "scrolled": true
   },
   "outputs": [
    {
     "data": {
      "text/plain": [
       "0.0       16493\n",
       "2014.0       72\n",
       "2013.0       30\n",
       "2007.0       29\n",
       "2000.0       27\n",
       "          ...  \n",
       "1948.0        1\n",
       "1951.0        1\n",
       "1976.0        1\n",
       "1971.0        1\n",
       "1944.0        1\n",
       "Name: yr_renovated, Length: 70, dtype: int64"
      ]
     },
     "execution_count": 187,
     "metadata": {},
     "output_type": "execute_result"
    }
   ],
   "source": [
    "df['yr_renovated'].value_counts()"
   ]
  },
  {
   "cell_type": "code",
   "execution_count": 188,
   "metadata": {},
   "outputs": [],
   "source": [
    "df['yr_renovated'] = df['yr_renovated'].fillna(0)\n"
   ]
  },
  {
   "cell_type": "code",
   "execution_count": 189,
   "metadata": {},
   "outputs": [
    {
     "name": "stdout",
     "output_type": "stream",
     "text": [
      "<class 'pandas.core.frame.DataFrame'>\n",
      "Int64Index: 20911 entries, 0 to 21595\n",
      "Data columns (total 30 columns):\n",
      " #   Column               Non-Null Count  Dtype  \n",
      "---  ------               --------------  -----  \n",
      " 0   Unnamed: 0           20911 non-null  int64  \n",
      " 1   id                   20911 non-null  int64  \n",
      " 2   date                 20911 non-null  object \n",
      " 3   price                20911 non-null  float64\n",
      " 4   bedrooms             20911 non-null  int64  \n",
      " 5   bathrooms            20911 non-null  float64\n",
      " 6   sqft_living          20911 non-null  int64  \n",
      " 7   sqft_lot             20911 non-null  int64  \n",
      " 8   floors               20911 non-null  float64\n",
      " 9   condition            20911 non-null  object \n",
      " 10  grade                20911 non-null  object \n",
      " 11  sqft_above           20911 non-null  int64  \n",
      " 12  sqft_basement        20911 non-null  object \n",
      " 13  yr_built             20911 non-null  int64  \n",
      " 14  yr_renovated         20911 non-null  float64\n",
      " 15  zipcode              20911 non-null  int64  \n",
      " 16  lat                  20911 non-null  float64\n",
      " 17  long                 20911 non-null  float64\n",
      " 18  sqft_living15        20911 non-null  int64  \n",
      " 19  sqft_lot15           20911 non-null  int64  \n",
      " 20  geometry             20911 non-null  object \n",
      " 21  police_dist          20911 non-null  float64\n",
      " 22  police_station_name  20911 non-null  object \n",
      " 23  medical_dist         20911 non-null  float64\n",
      " 24  medical_name         20911 non-null  object \n",
      " 25  school_dist          20911 non-null  float64\n",
      " 26  school_name          20911 non-null  object \n",
      " 27  farmers_market_dist  20911 non-null  float64\n",
      " 28  farmers_market_name  20911 non-null  object \n",
      " 29  view_y_n             20911 non-null  int64  \n",
      "dtypes: float64(10), int64(11), object(9)\n",
      "memory usage: 4.9+ MB\n"
     ]
    }
   ],
   "source": [
    "df.info()"
   ]
  },
  {
   "cell_type": "markdown",
   "metadata": {},
   "source": [
    "### Condition"
   ]
  },
  {
   "cell_type": "code",
   "execution_count": 190,
   "metadata": {
    "scrolled": true
   },
   "outputs": [
    {
     "data": {
      "text/plain": [
       "Average      13564\n",
       "Good          5510\n",
       "Very Good     1650\n",
       "Fair           161\n",
       "Poor            26\n",
       "Name: condition, dtype: int64"
      ]
     },
     "execution_count": 190,
     "metadata": {},
     "output_type": "execute_result"
    }
   ],
   "source": [
    "df['condition'].value_counts()"
   ]
  },
  {
   "cell_type": "code",
   "execution_count": 191,
   "metadata": {},
   "outputs": [
    {
     "data": {
      "text/plain": [
       "0          Average\n",
       "1          Average\n",
       "2          Average\n",
       "3        Very Good\n",
       "4          Average\n",
       "           ...    \n",
       "21590      Average\n",
       "21591      Average\n",
       "21592      Average\n",
       "21593      Average\n",
       "21595      Average\n",
       "Name: condition, Length: 20911, dtype: object"
      ]
     },
     "execution_count": 191,
     "metadata": {},
     "output_type": "execute_result"
    }
   ],
   "source": [
    "df[\"condition\"].fillna(\"N/A\")\n"
   ]
  },
  {
   "cell_type": "code",
   "execution_count": 192,
   "metadata": {
    "scrolled": true
   },
   "outputs": [
    {
     "data": {
      "text/plain": [
       "<AxesSubplot:>"
      ]
     },
     "execution_count": 192,
     "metadata": {},
     "output_type": "execute_result"
    },
    {
     "data": {
      "image/png": "[encoded data removed]",
      "text/plain": [
       "<Figure size 1800x720 with 2 Axes>"
      ]
     },
     "metadata": {
      "needs_background": "light"
     },
     "output_type": "display_data"
    }
   ],
   "source": [
    "import missingno as msno\n",
    "\n",
    "msno.matrix(df)\n"
   ]
  },
  {
   "cell_type": "code",
   "execution_count": null,
   "metadata": {},
   "outputs": [],
   "source": []
  },
  {
   "cell_type": "code",
   "execution_count": null,
   "metadata": {},
   "outputs": [],
   "source": []
  },
  {
   "cell_type": "code",
   "execution_count": null,
   "metadata": {},
   "outputs": [],
   "source": []
  },
  {
   "cell_type": "code",
   "execution_count": 193,
   "metadata": {},
   "outputs": [
    {
     "data": {
      "text/plain": [
       "<AxesSubplot:>"
      ]
     },
     "execution_count": 193,
     "metadata": {},
     "output_type": "execute_result"
    },
    {
     "data": {
      "image/png": "[encoded data removed]",
      "text/plain": [
       "<Figure size 1800x720 with 2 Axes>"
      ]
     },
     "metadata": {
      "needs_background": "light"
     },
     "output_type": "display_data"
    }
   ],
   "source": [
    "msno.matrix(df)\n"
   ]
  },
  {
   "cell_type": "markdown",
   "metadata": {},
   "source": [
    "### sqft_basement"
   ]
  },
  {
   "cell_type": "code",
   "execution_count": 194,
   "metadata": {},
   "outputs": [
    {
     "data": {
      "text/plain": [
       "0.0       12544\n",
       "?           438\n",
       "600.0       208\n",
       "500.0       206\n",
       "700.0       202\n",
       "          ...  \n",
       "475.0         1\n",
       "1135.0        1\n",
       "518.0         1\n",
       "2100.0        1\n",
       "1770.0        1\n",
       "Name: sqft_basement, Length: 278, dtype: int64"
      ]
     },
     "execution_count": 194,
     "metadata": {},
     "output_type": "execute_result"
    }
   ],
   "source": [
    "df['sqft_basement'].value_counts()"
   ]
  },
  {
   "cell_type": "code",
   "execution_count": 195,
   "metadata": {},
   "outputs": [
    {
     "data": {
      "text/plain": [
       "0.0       12544\n",
       "0           438\n",
       "600.0       208\n",
       "500.0       206\n",
       "700.0       202\n",
       "          ...  \n",
       "20.0          1\n",
       "65.0          1\n",
       "1770.0        1\n",
       "2180.0        1\n",
       "915.0         1\n",
       "Name: sqft_basement, Length: 278, dtype: int64"
      ]
     },
     "execution_count": 195,
     "metadata": {},
     "output_type": "execute_result"
    }
   ],
   "source": [
    "df['sqft_basement'] = df['sqft_basement'].map(lambda x: 0 if x == '?' else x)\n",
    "\n",
    "df['sqft_basement'].value_counts()"
   ]
  },
  {
   "cell_type": "code",
   "execution_count": 196,
   "metadata": {},
   "outputs": [
    {
     "name": "stdout",
     "output_type": "stream",
     "text": [
      "<class 'pandas.core.frame.DataFrame'>\n",
      "Int64Index: 20911 entries, 0 to 21595\n",
      "Data columns (total 30 columns):\n",
      " #   Column               Non-Null Count  Dtype  \n",
      "---  ------               --------------  -----  \n",
      " 0   Unnamed: 0           20911 non-null  int64  \n",
      " 1   id                   20911 non-null  int64  \n",
      " 2   date                 20911 non-null  object \n",
      " 3   price                20911 non-null  float64\n",
      " 4   bedrooms             20911 non-null  int64  \n",
      " 5   bathrooms            20911 non-null  float64\n",
      " 6   sqft_living          20911 non-null  int64  \n",
      " 7   sqft_lot             20911 non-null  int64  \n",
      " 8   floors               20911 non-null  float64\n",
      " 9   condition            20911 non-null  object \n",
      " 10  grade                20911 non-null  object \n",
      " 11  sqft_above           20911 non-null  int64  \n",
      " 12  sqft_basement        20911 non-null  float64\n",
      " 13  yr_built             20911 non-null  int64  \n",
      " 14  yr_renovated         20911 non-null  float64\n",
      " 15  zipcode              20911 non-null  int64  \n",
      " 16  lat                  20911 non-null  float64\n",
      " 17  long                 20911 non-null  float64\n",
      " 18  sqft_living15        20911 non-null  int64  \n",
      " 19  sqft_lot15           20911 non-null  int64  \n",
      " 20  geometry             20911 non-null  object \n",
      " 21  police_dist          20911 non-null  float64\n",
      " 22  police_station_name  20911 non-null  object \n",
      " 23  medical_dist         20911 non-null  float64\n",
      " 24  medical_name         20911 non-null  object \n",
      " 25  school_dist          20911 non-null  float64\n",
      " 26  school_name          20911 non-null  object \n",
      " 27  farmers_market_dist  20911 non-null  float64\n",
      " 28  farmers_market_name  20911 non-null  object \n",
      " 29  view_y_n             20911 non-null  int64  \n",
      "dtypes: float64(11), int64(11), object(8)\n",
      "memory usage: 4.9+ MB\n"
     ]
    }
   ],
   "source": [
    "df['sqft_basement'] = pd.to_numeric(df['sqft_basement'])\n",
    "df.info()"
   ]
  },
  {
   "cell_type": "code",
   "execution_count": 197,
   "metadata": {},
   "outputs": [
    {
     "data": {
      "text/plain": [
       "0.0       12982\n",
       "600.0       208\n",
       "500.0       206\n",
       "700.0       202\n",
       "800.0       192\n",
       "          ...  \n",
       "243.0         1\n",
       "1930.0        1\n",
       "283.0         1\n",
       "588.0         1\n",
       "2220.0        1\n",
       "Name: sqft_basement, Length: 277, dtype: int64"
      ]
     },
     "execution_count": 197,
     "metadata": {},
     "output_type": "execute_result"
    }
   ],
   "source": [
    "df['sqft_basement'].value_counts()"
   ]
  },
  {
   "cell_type": "markdown",
   "metadata": {},
   "source": [
    "### Add basement y/n column \n",
    "\n",
    "0- no basement\n",
    "\n",
    "1 = basement"
   ]
  },
  {
   "cell_type": "code",
   "execution_count": 198,
   "metadata": {},
   "outputs": [],
   "source": [
    "df['basement_y_n'] = df['sqft_basement'].map(lambda x: 0 if x ==0 else 1)"
   ]
  },
  {
   "cell_type": "code",
   "execution_count": 199,
   "metadata": {},
   "outputs": [
    {
     "data": {
      "text/plain": [
       "0    12982\n",
       "1     7929\n",
       "Name: basement_y_n, dtype: int64"
      ]
     },
     "execution_count": 199,
     "metadata": {},
     "output_type": "execute_result"
    }
   ],
   "source": [
    "df['basement_y_n'].value_counts()"
   ]
  },
  {
   "cell_type": "code",
   "execution_count": 200,
   "metadata": {},
   "outputs": [],
   "source": [
    "df.to_csv('../../data/kc_housing_CLEAN.csv')"
   ]
  },
  {
   "cell_type": "code",
   "execution_count": 201,
   "metadata": {},
   "outputs": [
    {
     "data": {
      "text/html": [
       "<div>\n",
       "<style scoped>\n",
       "    .dataframe tbody tr th:only-of-type {\n",
       "        vertical-align: middle;\n",
       "    }\n",
       "\n",
       "    .dataframe tbody tr th {\n",
       "        vertical-align: top;\n",
       "    }\n",
       "\n",
       "    .dataframe thead th {\n",
       "        text-align: right;\n",
       "    }\n",
       "</style>\n",
       "<table border=\"1\" class=\"dataframe\">\n",
       "  <thead>\n",
       "    <tr style=\"text-align: right;\">\n",
       "      <th></th>\n",
       "      <th>Unnamed: 0</th>\n",
       "      <th>id</th>\n",
       "      <th>date</th>\n",
       "      <th>price</th>\n",
       "      <th>bedrooms</th>\n",
       "      <th>bathrooms</th>\n",
       "      <th>sqft_living</th>\n",
       "      <th>sqft_lot</th>\n",
       "      <th>floors</th>\n",
       "      <th>condition</th>\n",
       "      <th>...</th>\n",
       "      <th>police_dist</th>\n",
       "      <th>police_station_name</th>\n",
       "      <th>medical_dist</th>\n",
       "      <th>medical_name</th>\n",
       "      <th>school_dist</th>\n",
       "      <th>school_name</th>\n",
       "      <th>farmers_market_dist</th>\n",
       "      <th>farmers_market_name</th>\n",
       "      <th>view_y_n</th>\n",
       "      <th>basement_y_n</th>\n",
       "    </tr>\n",
       "  </thead>\n",
       "  <tbody>\n",
       "    <tr>\n",
       "      <th>0</th>\n",
       "      <td>0</td>\n",
       "      <td>7129300520</td>\n",
       "      <td>10/13/2014</td>\n",
       "      <td>221900.0</td>\n",
       "      <td>3</td>\n",
       "      <td>1.00</td>\n",
       "      <td>1180</td>\n",
       "      <td>5650</td>\n",
       "      <td>1.0</td>\n",
       "      <td>Average</td>\n",
       "      <td>...</td>\n",
       "      <td>0.027330</td>\n",
       "      <td>West Hill Storefront</td>\n",
       "      <td>0.045415</td>\n",
       "      <td>Highline Medical Center Speciality Campus</td>\n",
       "      <td>0.002777</td>\n",
       "      <td>Amazing Grace Christian School</td>\n",
       "      <td>0.045049</td>\n",
       "      <td>Tukwila Village Farmers Market</td>\n",
       "      <td>0</td>\n",
       "      <td>0</td>\n",
       "    </tr>\n",
       "    <tr>\n",
       "      <th>1</th>\n",
       "      <td>1</td>\n",
       "      <td>6414100192</td>\n",
       "      <td>12/9/2014</td>\n",
       "      <td>538000.0</td>\n",
       "      <td>3</td>\n",
       "      <td>2.25</td>\n",
       "      <td>2570</td>\n",
       "      <td>7242</td>\n",
       "      <td>2.0</td>\n",
       "      <td>Average</td>\n",
       "      <td>...</td>\n",
       "      <td>0.023986</td>\n",
       "      <td>Seattle Police North Precinct</td>\n",
       "      <td>0.014602</td>\n",
       "      <td>Kindred Hospital Seattle - Northgate</td>\n",
       "      <td>0.005230</td>\n",
       "      <td>St. Matthew School</td>\n",
       "      <td>0.021050</td>\n",
       "      <td>Lake City Farmers Market</td>\n",
       "      <td>0</td>\n",
       "      <td>1</td>\n",
       "    </tr>\n",
       "    <tr>\n",
       "      <th>2</th>\n",
       "      <td>2</td>\n",
       "      <td>5631500400</td>\n",
       "      <td>2/25/2015</td>\n",
       "      <td>180000.0</td>\n",
       "      <td>2</td>\n",
       "      <td>1.00</td>\n",
       "      <td>770</td>\n",
       "      <td>10000</td>\n",
       "      <td>1.0</td>\n",
       "      <td>Average</td>\n",
       "      <td>...</td>\n",
       "      <td>0.027925</td>\n",
       "      <td>Kenmore Police Department</td>\n",
       "      <td>0.034020</td>\n",
       "      <td>Fairfax Hospital</td>\n",
       "      <td>0.002265</td>\n",
       "      <td>Moorlands Elementary School</td>\n",
       "      <td>0.037623</td>\n",
       "      <td>Juanita Friday Market</td>\n",
       "      <td>0</td>\n",
       "      <td>0</td>\n",
       "    </tr>\n",
       "    <tr>\n",
       "      <th>3</th>\n",
       "      <td>3</td>\n",
       "      <td>2487200875</td>\n",
       "      <td>12/9/2014</td>\n",
       "      <td>604000.0</td>\n",
       "      <td>4</td>\n",
       "      <td>3.00</td>\n",
       "      <td>1960</td>\n",
       "      <td>5000</td>\n",
       "      <td>1.0</td>\n",
       "      <td>Very Good</td>\n",
       "      <td>...</td>\n",
       "      <td>0.034575</td>\n",
       "      <td>Seattle Police Southwest Precinct</td>\n",
       "      <td>0.029929</td>\n",
       "      <td>Navos Mental Health Solutions</td>\n",
       "      <td>0.018994</td>\n",
       "      <td>Arbor Heights Elementary School</td>\n",
       "      <td>0.040609</td>\n",
       "      <td>West Seattle Farmers Market</td>\n",
       "      <td>0</td>\n",
       "      <td>1</td>\n",
       "    </tr>\n",
       "    <tr>\n",
       "      <th>4</th>\n",
       "      <td>4</td>\n",
       "      <td>1954400510</td>\n",
       "      <td>2/18/2015</td>\n",
       "      <td>510000.0</td>\n",
       "      <td>3</td>\n",
       "      <td>2.00</td>\n",
       "      <td>1680</td>\n",
       "      <td>8080</td>\n",
       "      <td>1.0</td>\n",
       "      <td>Average</td>\n",
       "      <td>...</td>\n",
       "      <td>0.017513</td>\n",
       "      <td>Sammamish Police Department</td>\n",
       "      <td>0.034583</td>\n",
       "      <td>Swedish Pine Lake Primary Care</td>\n",
       "      <td>0.011937</td>\n",
       "      <td>Margaret Mead Elementary School</td>\n",
       "      <td>0.045950</td>\n",
       "      <td>Sammamish Farmers Market</td>\n",
       "      <td>0</td>\n",
       "      <td>0</td>\n",
       "    </tr>\n",
       "  </tbody>\n",
       "</table>\n",
       "<p>5 rows × 31 columns</p>\n",
       "</div>"
      ],
      "text/plain": [
       "   Unnamed: 0          id        date     price  bedrooms  bathrooms  \\\n",
       "0           0  7129300520  10/13/2014  221900.0         3       1.00   \n",
       "1           1  6414100192   12/9/2014  538000.0         3       2.25   \n",
       "2           2  5631500400   2/25/2015  180000.0         2       1.00   \n",
       "3           3  2487200875   12/9/2014  604000.0         4       3.00   \n",
       "4           4  1954400510   2/18/2015  510000.0         3       2.00   \n",
       "\n",
       "   sqft_living  sqft_lot  floors  condition  ... police_dist  \\\n",
       "0         1180      5650     1.0    Average  ...    0.027330   \n",
       "1         2570      7242     2.0    Average  ...    0.023986   \n",
       "2          770     10000     1.0    Average  ...    0.027925   \n",
       "3         1960      5000     1.0  Very Good  ...    0.034575   \n",
       "4         1680      8080     1.0    Average  ...    0.017513   \n",
       "\n",
       "                 police_station_name  medical_dist  \\\n",
       "0               West Hill Storefront      0.045415   \n",
       "1      Seattle Police North Precinct      0.014602   \n",
       "2          Kenmore Police Department      0.034020   \n",
       "3  Seattle Police Southwest Precinct      0.029929   \n",
       "4        Sammamish Police Department      0.034583   \n",
       "\n",
       "                                medical_name  school_dist  \\\n",
       "0  Highline Medical Center Speciality Campus     0.002777   \n",
       "1       Kindred Hospital Seattle - Northgate     0.005230   \n",
       "2                           Fairfax Hospital     0.002265   \n",
       "3              Navos Mental Health Solutions     0.018994   \n",
       "4             Swedish Pine Lake Primary Care     0.011937   \n",
       "\n",
       "                       school_name  farmers_market_dist  \\\n",
       "0   Amazing Grace Christian School             0.045049   \n",
       "1               St. Matthew School             0.021050   \n",
       "2      Moorlands Elementary School             0.037623   \n",
       "3  Arbor Heights Elementary School             0.040609   \n",
       "4  Margaret Mead Elementary School             0.045950   \n",
       "\n",
       "              farmers_market_name  view_y_n  basement_y_n  \n",
       "0  Tukwila Village Farmers Market         0             0  \n",
       "1        Lake City Farmers Market         0             1  \n",
       "2           Juanita Friday Market         0             0  \n",
       "3     West Seattle Farmers Market         0             1  \n",
       "4        Sammamish Farmers Market         0             0  \n",
       "\n",
       "[5 rows x 31 columns]"
      ]
     },
     "execution_count": 201,
     "metadata": {},
     "output_type": "execute_result"
    }
   ],
   "source": [
    "df.head()"
   ]
  },
  {
   "cell_type": "code",
   "execution_count": 202,
   "metadata": {},
   "outputs": [
    {
     "name": "stdout",
     "output_type": "stream",
     "text": [
      "<class 'pandas.core.frame.DataFrame'>\n",
      "Int64Index: 20911 entries, 0 to 21595\n",
      "Data columns (total 31 columns):\n",
      " #   Column               Non-Null Count  Dtype  \n",
      "---  ------               --------------  -----  \n",
      " 0   Unnamed: 0           20911 non-null  int64  \n",
      " 1   id                   20911 non-null  int64  \n",
      " 2   date                 20911 non-null  object \n",
      " 3   price                20911 non-null  float64\n",
      " 4   bedrooms             20911 non-null  int64  \n",
      " 5   bathrooms            20911 non-null  float64\n",
      " 6   sqft_living          20911 non-null  int64  \n",
      " 7   sqft_lot             20911 non-null  int64  \n",
      " 8   floors               20911 non-null  float64\n",
      " 9   condition            20911 non-null  object \n",
      " 10  grade                20911 non-null  object \n",
      " 11  sqft_above           20911 non-null  int64  \n",
      " 12  sqft_basement        20911 non-null  float64\n",
      " 13  yr_built             20911 non-null  int64  \n",
      " 14  yr_renovated         20911 non-null  float64\n",
      " 15  zipcode              20911 non-null  int64  \n",
      " 16  lat                  20911 non-null  float64\n",
      " 17  long                 20911 non-null  float64\n",
      " 18  sqft_living15        20911 non-null  int64  \n",
      " 19  sqft_lot15           20911 non-null  int64  \n",
      " 20  geometry             20911 non-null  object \n",
      " 21  police_dist          20911 non-null  float64\n",
      " 22  police_station_name  20911 non-null  object \n",
      " 23  medical_dist         20911 non-null  float64\n",
      " 24  medical_name         20911 non-null  object \n",
      " 25  school_dist          20911 non-null  float64\n",
      " 26  school_name          20911 non-null  object \n",
      " 27  farmers_market_dist  20911 non-null  float64\n",
      " 28  farmers_market_name  20911 non-null  object \n",
      " 29  view_y_n             20911 non-null  int64  \n",
      " 30  basement_y_n         20911 non-null  int64  \n",
      "dtypes: float64(11), int64(12), object(8)\n",
      "memory usage: 5.1+ MB\n"
     ]
    }
   ],
   "source": [
    "df.info()"
   ]
  },
  {
   "cell_type": "code",
   "execution_count": null,
   "metadata": {},
   "outputs": [],
   "source": []
  }
 ],
 "metadata": {
  "kernelspec": {
   "display_name": "Python (learn-env)",
   "language": "python",
   "name": "learn-env"
  },
  "language_info": {
   "codemirror_mode": {
    "name": "ipython",
    "version": 3
   },
   "file_extension": ".py",
   "mimetype": "text/x-python",
   "name": "python",
   "nbconvert_exporter": "python",
   "pygments_lexer": "ipython3",
   "version": "3.8.5"
  }
 },
 "nbformat": 4,
 "nbformat_minor": 4
}
