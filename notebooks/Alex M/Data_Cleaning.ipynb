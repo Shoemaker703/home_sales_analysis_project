{
 "cells": [
  {
   "cell_type": "code",
   "execution_count": 1,
   "metadata": {},
   "outputs": [],
   "source": [
    "# code here to explore your data\n",
    "import numpy as np\n",
    "import pandas as pd\n",
    "import matplotlib.pyplot as plt\n",
    "import seaborn as sns\n",
    "import statsmodels.api as sm\n",
    "\n",
    "from statsmodels.formula.api import ols\n",
    "%matplotlib inline"
   ]
  },
  {
   "cell_type": "code",
   "execution_count": 2,
   "metadata": {},
   "outputs": [],
   "source": [
    "df = pd.read_csv('data/kc_house_data_with_distances.csv')"
   ]
  },
  {
   "cell_type": "code",
   "execution_count": 3,
   "metadata": {},
   "outputs": [
    {
     "data": {
      "text/html": [
       "<div>\n",
       "<style scoped>\n",
       "    .dataframe tbody tr th:only-of-type {\n",
       "        vertical-align: middle;\n",
       "    }\n",
       "\n",
       "    .dataframe tbody tr th {\n",
       "        vertical-align: top;\n",
       "    }\n",
       "\n",
       "    .dataframe thead th {\n",
       "        text-align: right;\n",
       "    }\n",
       "</style>\n",
       "<table border=\"1\" class=\"dataframe\">\n",
       "  <thead>\n",
       "    <tr style=\"text-align: right;\">\n",
       "      <th></th>\n",
       "      <th>Unnamed: 0</th>\n",
       "      <th>id</th>\n",
       "      <th>price</th>\n",
       "      <th>bedrooms</th>\n",
       "      <th>bathrooms</th>\n",
       "      <th>sqft_living</th>\n",
       "      <th>sqft_lot</th>\n",
       "      <th>floors</th>\n",
       "      <th>sqft_above</th>\n",
       "      <th>yr_built</th>\n",
       "      <th>yr_renovated</th>\n",
       "      <th>zipcode</th>\n",
       "      <th>lat</th>\n",
       "      <th>long</th>\n",
       "      <th>sqft_living15</th>\n",
       "      <th>sqft_lot15</th>\n",
       "      <th>police_dist</th>\n",
       "      <th>medical_dist</th>\n",
       "      <th>school_dist</th>\n",
       "      <th>farmers_market_dist</th>\n",
       "    </tr>\n",
       "  </thead>\n",
       "  <tbody>\n",
       "    <tr>\n",
       "      <th>count</th>\n",
       "      <td>21597.000000</td>\n",
       "      <td>2.159700e+04</td>\n",
       "      <td>2.159700e+04</td>\n",
       "      <td>21597.000000</td>\n",
       "      <td>21597.000000</td>\n",
       "      <td>21597.000000</td>\n",
       "      <td>2.159700e+04</td>\n",
       "      <td>21597.000000</td>\n",
       "      <td>21597.000000</td>\n",
       "      <td>21597.000000</td>\n",
       "      <td>17755.000000</td>\n",
       "      <td>21597.000000</td>\n",
       "      <td>21597.000000</td>\n",
       "      <td>21597.000000</td>\n",
       "      <td>21597.000000</td>\n",
       "      <td>21597.000000</td>\n",
       "      <td>21597.000000</td>\n",
       "      <td>21597.000000</td>\n",
       "      <td>21597.000000</td>\n",
       "      <td>21597.000000</td>\n",
       "    </tr>\n",
       "    <tr>\n",
       "      <th>mean</th>\n",
       "      <td>10798.000000</td>\n",
       "      <td>4.580474e+09</td>\n",
       "      <td>5.402966e+05</td>\n",
       "      <td>3.373200</td>\n",
       "      <td>2.115826</td>\n",
       "      <td>2080.321850</td>\n",
       "      <td>1.509941e+04</td>\n",
       "      <td>1.494096</td>\n",
       "      <td>1788.596842</td>\n",
       "      <td>1970.999676</td>\n",
       "      <td>83.636778</td>\n",
       "      <td>98077.951845</td>\n",
       "      <td>47.560093</td>\n",
       "      <td>-122.213982</td>\n",
       "      <td>1986.620318</td>\n",
       "      <td>12758.283512</td>\n",
       "      <td>0.030966</td>\n",
       "      <td>0.030646</td>\n",
       "      <td>0.008650</td>\n",
       "      <td>0.034153</td>\n",
       "    </tr>\n",
       "    <tr>\n",
       "      <th>std</th>\n",
       "      <td>6234.661218</td>\n",
       "      <td>2.876736e+09</td>\n",
       "      <td>3.673681e+05</td>\n",
       "      <td>0.926299</td>\n",
       "      <td>0.768984</td>\n",
       "      <td>918.106125</td>\n",
       "      <td>4.141264e+04</td>\n",
       "      <td>0.539683</td>\n",
       "      <td>827.759761</td>\n",
       "      <td>29.375234</td>\n",
       "      <td>399.946414</td>\n",
       "      <td>53.513072</td>\n",
       "      <td>0.138552</td>\n",
       "      <td>0.140724</td>\n",
       "      <td>685.230472</td>\n",
       "      <td>27274.441950</td>\n",
       "      <td>0.020441</td>\n",
       "      <td>0.031710</td>\n",
       "      <td>0.008436</td>\n",
       "      <td>0.025022</td>\n",
       "    </tr>\n",
       "    <tr>\n",
       "      <th>min</th>\n",
       "      <td>0.000000</td>\n",
       "      <td>1.000102e+06</td>\n",
       "      <td>7.800000e+04</td>\n",
       "      <td>1.000000</td>\n",
       "      <td>0.500000</td>\n",
       "      <td>370.000000</td>\n",
       "      <td>5.200000e+02</td>\n",
       "      <td>1.000000</td>\n",
       "      <td>370.000000</td>\n",
       "      <td>1900.000000</td>\n",
       "      <td>0.000000</td>\n",
       "      <td>98001.000000</td>\n",
       "      <td>47.155900</td>\n",
       "      <td>-122.519000</td>\n",
       "      <td>399.000000</td>\n",
       "      <td>651.000000</td>\n",
       "      <td>0.000513</td>\n",
       "      <td>0.000391</td>\n",
       "      <td>0.000095</td>\n",
       "      <td>0.000199</td>\n",
       "    </tr>\n",
       "    <tr>\n",
       "      <th>25%</th>\n",
       "      <td>5399.000000</td>\n",
       "      <td>2.123049e+09</td>\n",
       "      <td>3.220000e+05</td>\n",
       "      <td>3.000000</td>\n",
       "      <td>1.750000</td>\n",
       "      <td>1430.000000</td>\n",
       "      <td>5.040000e+03</td>\n",
       "      <td>1.000000</td>\n",
       "      <td>1190.000000</td>\n",
       "      <td>1951.000000</td>\n",
       "      <td>0.000000</td>\n",
       "      <td>98033.000000</td>\n",
       "      <td>47.471100</td>\n",
       "      <td>-122.328000</td>\n",
       "      <td>1490.000000</td>\n",
       "      <td>5100.000000</td>\n",
       "      <td>0.017375</td>\n",
       "      <td>0.013755</td>\n",
       "      <td>0.004333</td>\n",
       "      <td>0.017622</td>\n",
       "    </tr>\n",
       "    <tr>\n",
       "      <th>50%</th>\n",
       "      <td>10798.000000</td>\n",
       "      <td>3.904930e+09</td>\n",
       "      <td>4.500000e+05</td>\n",
       "      <td>3.000000</td>\n",
       "      <td>2.250000</td>\n",
       "      <td>1910.000000</td>\n",
       "      <td>7.618000e+03</td>\n",
       "      <td>1.500000</td>\n",
       "      <td>1560.000000</td>\n",
       "      <td>1975.000000</td>\n",
       "      <td>0.000000</td>\n",
       "      <td>98065.000000</td>\n",
       "      <td>47.571800</td>\n",
       "      <td>-122.231000</td>\n",
       "      <td>1840.000000</td>\n",
       "      <td>7620.000000</td>\n",
       "      <td>0.027048</td>\n",
       "      <td>0.022427</td>\n",
       "      <td>0.006740</td>\n",
       "      <td>0.028935</td>\n",
       "    </tr>\n",
       "    <tr>\n",
       "      <th>75%</th>\n",
       "      <td>16197.000000</td>\n",
       "      <td>7.308900e+09</td>\n",
       "      <td>6.450000e+05</td>\n",
       "      <td>4.000000</td>\n",
       "      <td>2.500000</td>\n",
       "      <td>2550.000000</td>\n",
       "      <td>1.068500e+04</td>\n",
       "      <td>2.000000</td>\n",
       "      <td>2210.000000</td>\n",
       "      <td>1997.000000</td>\n",
       "      <td>0.000000</td>\n",
       "      <td>98118.000000</td>\n",
       "      <td>47.678000</td>\n",
       "      <td>-122.125000</td>\n",
       "      <td>2360.000000</td>\n",
       "      <td>10083.000000</td>\n",
       "      <td>0.039464</td>\n",
       "      <td>0.036966</td>\n",
       "      <td>0.010209</td>\n",
       "      <td>0.045282</td>\n",
       "    </tr>\n",
       "    <tr>\n",
       "      <th>max</th>\n",
       "      <td>21596.000000</td>\n",
       "      <td>9.900000e+09</td>\n",
       "      <td>7.700000e+06</td>\n",
       "      <td>33.000000</td>\n",
       "      <td>8.000000</td>\n",
       "      <td>13540.000000</td>\n",
       "      <td>1.651359e+06</td>\n",
       "      <td>3.500000</td>\n",
       "      <td>9410.000000</td>\n",
       "      <td>2015.000000</td>\n",
       "      <td>2015.000000</td>\n",
       "      <td>98199.000000</td>\n",
       "      <td>47.777600</td>\n",
       "      <td>-121.315000</td>\n",
       "      <td>6210.000000</td>\n",
       "      <td>871200.000000</td>\n",
       "      <td>0.339291</td>\n",
       "      <td>0.604612</td>\n",
       "      <td>0.325079</td>\n",
       "      <td>0.519270</td>\n",
       "    </tr>\n",
       "  </tbody>\n",
       "</table>\n",
       "</div>"
      ],
      "text/plain": [
       "         Unnamed: 0            id         price      bedrooms     bathrooms  \\\n",
       "count  21597.000000  2.159700e+04  2.159700e+04  21597.000000  21597.000000   \n",
       "mean   10798.000000  4.580474e+09  5.402966e+05      3.373200      2.115826   \n",
       "std     6234.661218  2.876736e+09  3.673681e+05      0.926299      0.768984   \n",
       "min        0.000000  1.000102e+06  7.800000e+04      1.000000      0.500000   \n",
       "25%     5399.000000  2.123049e+09  3.220000e+05      3.000000      1.750000   \n",
       "50%    10798.000000  3.904930e+09  4.500000e+05      3.000000      2.250000   \n",
       "75%    16197.000000  7.308900e+09  6.450000e+05      4.000000      2.500000   \n",
       "max    21596.000000  9.900000e+09  7.700000e+06     33.000000      8.000000   \n",
       "\n",
       "        sqft_living      sqft_lot        floors    sqft_above      yr_built  \\\n",
       "count  21597.000000  2.159700e+04  21597.000000  21597.000000  21597.000000   \n",
       "mean    2080.321850  1.509941e+04      1.494096   1788.596842   1970.999676   \n",
       "std      918.106125  4.141264e+04      0.539683    827.759761     29.375234   \n",
       "min      370.000000  5.200000e+02      1.000000    370.000000   1900.000000   \n",
       "25%     1430.000000  5.040000e+03      1.000000   1190.000000   1951.000000   \n",
       "50%     1910.000000  7.618000e+03      1.500000   1560.000000   1975.000000   \n",
       "75%     2550.000000  1.068500e+04      2.000000   2210.000000   1997.000000   \n",
       "max    13540.000000  1.651359e+06      3.500000   9410.000000   2015.000000   \n",
       "\n",
       "       yr_renovated       zipcode           lat          long  sqft_living15  \\\n",
       "count  17755.000000  21597.000000  21597.000000  21597.000000   21597.000000   \n",
       "mean      83.636778  98077.951845     47.560093   -122.213982    1986.620318   \n",
       "std      399.946414     53.513072      0.138552      0.140724     685.230472   \n",
       "min        0.000000  98001.000000     47.155900   -122.519000     399.000000   \n",
       "25%        0.000000  98033.000000     47.471100   -122.328000    1490.000000   \n",
       "50%        0.000000  98065.000000     47.571800   -122.231000    1840.000000   \n",
       "75%        0.000000  98118.000000     47.678000   -122.125000    2360.000000   \n",
       "max     2015.000000  98199.000000     47.777600   -121.315000    6210.000000   \n",
       "\n",
       "          sqft_lot15   police_dist  medical_dist   school_dist  \\\n",
       "count   21597.000000  21597.000000  21597.000000  21597.000000   \n",
       "mean    12758.283512      0.030966      0.030646      0.008650   \n",
       "std     27274.441950      0.020441      0.031710      0.008436   \n",
       "min       651.000000      0.000513      0.000391      0.000095   \n",
       "25%      5100.000000      0.017375      0.013755      0.004333   \n",
       "50%      7620.000000      0.027048      0.022427      0.006740   \n",
       "75%     10083.000000      0.039464      0.036966      0.010209   \n",
       "max    871200.000000      0.339291      0.604612      0.325079   \n",
       "\n",
       "       farmers_market_dist  \n",
       "count         21597.000000  \n",
       "mean              0.034153  \n",
       "std               0.025022  \n",
       "min               0.000199  \n",
       "25%               0.017622  \n",
       "50%               0.028935  \n",
       "75%               0.045282  \n",
       "max               0.519270  "
      ]
     },
     "execution_count": 3,
     "metadata": {},
     "output_type": "execute_result"
    }
   ],
   "source": [
    "df.describe()"
   ]
  },
  {
   "cell_type": "markdown",
   "metadata": {},
   "source": [
    "### Bedrooms"
   ]
  },
  {
   "cell_type": "code",
   "execution_count": 4,
   "metadata": {},
   "outputs": [
    {
     "data": {
      "text/plain": [
       "1      196\n",
       "2     2760\n",
       "3     9824\n",
       "4     6882\n",
       "5     1601\n",
       "6      272\n",
       "7       38\n",
       "8       13\n",
       "9        6\n",
       "10       3\n",
       "11       1\n",
       "33       1\n",
       "Name: bedrooms, dtype: int64"
      ]
     },
     "execution_count": 4,
     "metadata": {},
     "output_type": "execute_result"
    }
   ],
   "source": [
    "df['bedrooms'].value_counts().sort_index()"
   ]
  },
  {
   "cell_type": "code",
   "execution_count": 5,
   "metadata": {},
   "outputs": [
    {
     "data": {
      "text/plain": [
       "1     196\n",
       "2    2760\n",
       "3    9824\n",
       "4    6882\n",
       "5    1601\n",
       "Name: bedrooms, dtype: int64"
      ]
     },
     "execution_count": 5,
     "metadata": {},
     "output_type": "execute_result"
    }
   ],
   "source": [
    "# dropping any larger then five, presumption being >5 not single family\n",
    "df = df[df['bedrooms']<6]\n",
    "df['bedrooms'].value_counts().sort_index()"
   ]
  },
  {
   "cell_type": "markdown",
   "metadata": {},
   "source": [
    "### Bathrooms "
   ]
  },
  {
   "cell_type": "code",
   "execution_count": 6,
   "metadata": {},
   "outputs": [
    {
     "data": {
      "text/plain": [
       "0.50       4\n",
       "0.75      71\n",
       "1.00    3844\n",
       "1.25       9\n",
       "1.50    1437\n",
       "1.75    3031\n",
       "2.00    1905\n",
       "2.25    2029\n",
       "2.50    5345\n",
       "2.75    1148\n",
       "3.00     699\n",
       "3.25     575\n",
       "3.50     708\n",
       "3.75     139\n",
       "4.00     117\n",
       "4.25      69\n",
       "4.50      72\n",
       "4.75      18\n",
       "5.00      14\n",
       "5.25       9\n",
       "5.50       9\n",
       "5.75       3\n",
       "6.00       4\n",
       "6.25       2\n",
       "6.50       1\n",
       "6.75       1\n",
       "Name: bathrooms, dtype: int64"
      ]
     },
     "execution_count": 6,
     "metadata": {},
     "output_type": "execute_result"
    }
   ],
   "source": [
    "df['bathrooms'].value_counts().sort_index()"
   ]
  },
  {
   "cell_type": "code",
   "execution_count": 7,
   "metadata": {},
   "outputs": [
    {
     "data": {
      "text/plain": [
       "0.50       4\n",
       "0.75      71\n",
       "1.00    3844\n",
       "1.25       9\n",
       "1.50    1437\n",
       "1.75    3031\n",
       "2.00    1905\n",
       "2.25    2029\n",
       "2.50    5345\n",
       "2.75    1148\n",
       "3.00     699\n",
       "3.25     575\n",
       "3.50     708\n",
       "3.75     139\n",
       "4.00     117\n",
       "Name: bathrooms, dtype: int64"
      ]
     },
     "execution_count": 7,
     "metadata": {},
     "output_type": "execute_result"
    }
   ],
   "source": [
    "# clearing out bathrooms over 4 - given distribution these are outliers \n",
    "\n",
    "df = df[df['bathrooms']<=4]\n",
    "df['bathrooms'].value_counts().sort_index()"
   ]
  },
  {
   "cell_type": "code",
   "execution_count": 8,
   "metadata": {},
   "outputs": [
    {
     "data": {
      "text/plain": [
       "1.00    3844\n",
       "1.25       9\n",
       "1.50    1437\n",
       "1.75    3031\n",
       "2.00    1905\n",
       "2.25    2029\n",
       "2.50    5345\n",
       "2.75    1148\n",
       "3.00     699\n",
       "3.25     575\n",
       "3.50     708\n",
       "3.75     139\n",
       "4.00     117\n",
       "Name: bathrooms, dtype: int64"
      ]
     },
     "execution_count": 8,
     "metadata": {},
     "output_type": "execute_result"
    }
   ],
   "source": [
    "df = df[df['bathrooms']>=1]\n",
    "df['bathrooms'].value_counts().sort_index()"
   ]
  },
  {
   "cell_type": "code",
   "execution_count": 9,
   "metadata": {},
   "outputs": [
    {
     "name": "stdout",
     "output_type": "stream",
     "text": [
      "<class 'pandas.core.frame.DataFrame'>\n",
      "Int64Index: 20986 entries, 0 to 21595\n",
      "Data columns (total 31 columns):\n",
      " #   Column               Non-Null Count  Dtype  \n",
      "---  ------               --------------  -----  \n",
      " 0   Unnamed: 0           20986 non-null  int64  \n",
      " 1   id                   20986 non-null  int64  \n",
      " 2   date                 20986 non-null  object \n",
      " 3   price                20986 non-null  float64\n",
      " 4   bedrooms             20986 non-null  int64  \n",
      " 5   bathrooms            20986 non-null  float64\n",
      " 6   sqft_living          20986 non-null  int64  \n",
      " 7   sqft_lot             20986 non-null  int64  \n",
      " 8   floors               20986 non-null  float64\n",
      " 9   waterfront           18683 non-null  object \n",
      " 10  view                 20927 non-null  object \n",
      " 11  condition            20986 non-null  object \n",
      " 12  grade                20986 non-null  object \n",
      " 13  sqft_above           20986 non-null  int64  \n",
      " 14  sqft_basement        20986 non-null  object \n",
      " 15  yr_built             20986 non-null  int64  \n",
      " 16  yr_renovated         17247 non-null  float64\n",
      " 17  zipcode              20986 non-null  int64  \n",
      " 18  lat                  20986 non-null  float64\n",
      " 19  long                 20986 non-null  float64\n",
      " 20  sqft_living15        20986 non-null  int64  \n",
      " 21  sqft_lot15           20986 non-null  int64  \n",
      " 22  geometry             20986 non-null  object \n",
      " 23  police_dist          20986 non-null  float64\n",
      " 24  police_station_name  20986 non-null  object \n",
      " 25  medical_dist         20986 non-null  float64\n",
      " 26  medical_name         20986 non-null  object \n",
      " 27  school_dist          20986 non-null  float64\n",
      " 28  school_name          20986 non-null  object \n",
      " 29  farmers_market_dist  20986 non-null  float64\n",
      " 30  farmers_market_name  20986 non-null  object \n",
      "dtypes: float64(10), int64(10), object(11)\n",
      "memory usage: 5.1+ MB\n"
     ]
    }
   ],
   "source": [
    "df.info()"
   ]
  },
  {
   "cell_type": "markdown",
   "metadata": {},
   "source": [
    "### Waterfront"
   ]
  },
  {
   "cell_type": "code",
   "execution_count": 10,
   "metadata": {},
   "outputs": [
    {
     "data": {
      "text/plain": [
       "NO     18561\n",
       "YES      122\n",
       "Name: waterfront, dtype: int64"
      ]
     },
     "execution_count": 10,
     "metadata": {},
     "output_type": "execute_result"
    }
   ],
   "source": [
    "df['waterfront'].value_counts()\n",
    "# SO few houses meet this criteria it is immaterial "
   ]
  },
  {
   "cell_type": "code",
   "execution_count": 11,
   "metadata": {},
   "outputs": [],
   "source": [
    "df = df.drop(columns = 'waterfront')\n"
   ]
  },
  {
   "cell_type": "code",
   "execution_count": 12,
   "metadata": {},
   "outputs": [
    {
     "name": "stdout",
     "output_type": "stream",
     "text": [
      "<class 'pandas.core.frame.DataFrame'>\n",
      "Int64Index: 20986 entries, 0 to 21595\n",
      "Data columns (total 30 columns):\n",
      " #   Column               Non-Null Count  Dtype  \n",
      "---  ------               --------------  -----  \n",
      " 0   Unnamed: 0           20986 non-null  int64  \n",
      " 1   id                   20986 non-null  int64  \n",
      " 2   date                 20986 non-null  object \n",
      " 3   price                20986 non-null  float64\n",
      " 4   bedrooms             20986 non-null  int64  \n",
      " 5   bathrooms            20986 non-null  float64\n",
      " 6   sqft_living          20986 non-null  int64  \n",
      " 7   sqft_lot             20986 non-null  int64  \n",
      " 8   floors               20986 non-null  float64\n",
      " 9   view                 20927 non-null  object \n",
      " 10  condition            20986 non-null  object \n",
      " 11  grade                20986 non-null  object \n",
      " 12  sqft_above           20986 non-null  int64  \n",
      " 13  sqft_basement        20986 non-null  object \n",
      " 14  yr_built             20986 non-null  int64  \n",
      " 15  yr_renovated         17247 non-null  float64\n",
      " 16  zipcode              20986 non-null  int64  \n",
      " 17  lat                  20986 non-null  float64\n",
      " 18  long                 20986 non-null  float64\n",
      " 19  sqft_living15        20986 non-null  int64  \n",
      " 20  sqft_lot15           20986 non-null  int64  \n",
      " 21  geometry             20986 non-null  object \n",
      " 22  police_dist          20986 non-null  float64\n",
      " 23  police_station_name  20986 non-null  object \n",
      " 24  medical_dist         20986 non-null  float64\n",
      " 25  medical_name         20986 non-null  object \n",
      " 26  school_dist          20986 non-null  float64\n",
      " 27  school_name          20986 non-null  object \n",
      " 28  farmers_market_dist  20986 non-null  float64\n",
      " 29  farmers_market_name  20986 non-null  object \n",
      "dtypes: float64(10), int64(10), object(10)\n",
      "memory usage: 5.0+ MB\n"
     ]
    }
   ],
   "source": [
    "df.info()"
   ]
  },
  {
   "cell_type": "markdown",
   "metadata": {},
   "source": [
    "### Floors\n",
    "\n",
    "- while only a few of the maximum value their assocated values were not outliers so keeping and not changing column "
   ]
  },
  {
   "cell_type": "code",
   "execution_count": 13,
   "metadata": {},
   "outputs": [
    {
     "data": {
      "text/plain": [
       "1.0    10471\n",
       "1.5     1864\n",
       "2.0     7912\n",
       "2.5      136\n",
       "3.0      597\n",
       "3.5        6\n",
       "Name: floors, dtype: int64"
      ]
     },
     "execution_count": 13,
     "metadata": {},
     "output_type": "execute_result"
    }
   ],
   "source": [
    "df['floors'].value_counts().sort_index()"
   ]
  },
  {
   "cell_type": "markdown",
   "metadata": {},
   "source": [
    "### View \n",
    "\n",
    "Binning View column into new Boolean 'view_y_n' \n",
    "\n",
    "0 = No View\n",
    "\n",
    "1 = View of indeterminate quality |"
   ]
  },
  {
   "cell_type": "code",
   "execution_count": 14,
   "metadata": {},
   "outputs": [
    {
     "data": {
      "text/plain": [
       "NONE         18976\n",
       "AVERAGE        897\n",
       "GOOD           465\n",
       "FAIR           315\n",
       "EXCELLENT      274\n",
       "Name: view, dtype: int64"
      ]
     },
     "execution_count": 14,
     "metadata": {},
     "output_type": "execute_result"
    }
   ],
   "source": [
    "df['view'].value_counts()\n",
    "\n",
    "# Given distribution worth keeping? BIN THIS NO VIEW V SOME VIEW "
   ]
  },
  {
   "cell_type": "code",
   "execution_count": 15,
   "metadata": {},
   "outputs": [],
   "source": [
    "df['view_y_n'] = df['view'].map(lambda x: 0 if x =='NONE' else 1)\n"
   ]
  },
  {
   "cell_type": "code",
   "execution_count": 16,
   "metadata": {},
   "outputs": [
    {
     "data": {
      "text/plain": [
       "0    18976\n",
       "1     2010\n",
       "Name: view_y_n, dtype: int64"
      ]
     },
     "execution_count": 16,
     "metadata": {},
     "output_type": "execute_result"
    }
   ],
   "source": [
    "df['view_y_n'].value_counts()"
   ]
  },
  {
   "cell_type": "code",
   "execution_count": 17,
   "metadata": {},
   "outputs": [
    {
     "name": "stdout",
     "output_type": "stream",
     "text": [
      "<class 'pandas.core.frame.DataFrame'>\n",
      "Int64Index: 20986 entries, 0 to 21595\n",
      "Data columns (total 30 columns):\n",
      " #   Column               Non-Null Count  Dtype  \n",
      "---  ------               --------------  -----  \n",
      " 0   Unnamed: 0           20986 non-null  int64  \n",
      " 1   id                   20986 non-null  int64  \n",
      " 2   date                 20986 non-null  object \n",
      " 3   price                20986 non-null  float64\n",
      " 4   bedrooms             20986 non-null  int64  \n",
      " 5   bathrooms            20986 non-null  float64\n",
      " 6   sqft_living          20986 non-null  int64  \n",
      " 7   sqft_lot             20986 non-null  int64  \n",
      " 8   floors               20986 non-null  float64\n",
      " 9   condition            20986 non-null  object \n",
      " 10  grade                20986 non-null  object \n",
      " 11  sqft_above           20986 non-null  int64  \n",
      " 12  sqft_basement        20986 non-null  object \n",
      " 13  yr_built             20986 non-null  int64  \n",
      " 14  yr_renovated         17247 non-null  float64\n",
      " 15  zipcode              20986 non-null  int64  \n",
      " 16  lat                  20986 non-null  float64\n",
      " 17  long                 20986 non-null  float64\n",
      " 18  sqft_living15        20986 non-null  int64  \n",
      " 19  sqft_lot15           20986 non-null  int64  \n",
      " 20  geometry             20986 non-null  object \n",
      " 21  police_dist          20986 non-null  float64\n",
      " 22  police_station_name  20986 non-null  object \n",
      " 23  medical_dist         20986 non-null  float64\n",
      " 24  medical_name         20986 non-null  object \n",
      " 25  school_dist          20986 non-null  float64\n",
      " 26  school_name          20986 non-null  object \n",
      " 27  farmers_market_dist  20986 non-null  float64\n",
      " 28  farmers_market_name  20986 non-null  object \n",
      " 29  view_y_n             20986 non-null  int64  \n",
      "dtypes: float64(10), int64(11), object(9)\n",
      "memory usage: 5.0+ MB\n"
     ]
    }
   ],
   "source": [
    "df = df.drop(columns = 'view')\n",
    "df.info()"
   ]
  },
  {
   "cell_type": "markdown",
   "metadata": {},
   "source": [
    "### Grade \n",
    "\n",
    "Removing Luxury and Mansion lines as definition unclear compared to other grades, Removing Low as only 14 houses meet criteria.  KEEPING SINGLE FAMILY HOUSE IN MIND AS WHAT THIS TABLE IS REPPING "
   ]
  },
  {
   "cell_type": "code",
   "execution_count": 18,
   "metadata": {},
   "outputs": [
    {
     "data": {
      "text/plain": [
       "7 Average        8829\n",
       "8 Good           5947\n",
       "9 Better         2556\n",
       "6 Low Average    2002\n",
       "10 Very Good     1043\n",
       "11 Excellent      310\n",
       "5 Fair            224\n",
       "12 Luxury          57\n",
       "4 Low              14\n",
       "13 Mansion          4\n",
       "Name: grade, dtype: int64"
      ]
     },
     "execution_count": 18,
     "metadata": {},
     "output_type": "execute_result"
    }
   ],
   "source": [
    "df['grade'].value_counts()"
   ]
  },
  {
   "cell_type": "code",
   "execution_count": 19,
   "metadata": {},
   "outputs": [],
   "source": [
    "df = df[(df['grade'] != '13 Mansion') & (df['grade'] != '12 Luxury') & (df['grade'] != '4 Low')]\n",
    "\n",
    "    "
   ]
  },
  {
   "cell_type": "code",
   "execution_count": 20,
   "metadata": {},
   "outputs": [
    {
     "data": {
      "text/plain": [
       "7 Average        8829\n",
       "8 Good           5947\n",
       "9 Better         2556\n",
       "6 Low Average    2002\n",
       "10 Very Good     1043\n",
       "11 Excellent      310\n",
       "5 Fair            224\n",
       "Name: grade, dtype: int64"
      ]
     },
     "execution_count": 20,
     "metadata": {},
     "output_type": "execute_result"
    }
   ],
   "source": [
    "df['grade'].value_counts()"
   ]
  },
  {
   "cell_type": "code",
   "execution_count": 21,
   "metadata": {},
   "outputs": [],
   "source": [
    "from sklearn.preprocessing import OneHotEncoder, StandardScaler \n",
    "ohe = OneHotEncoder()\n",
    "col_name = df[['grade']]\n",
    "grade_ohe = ohe.fit_transform(col_name)"
   ]
  },
  {
   "cell_type": "code",
   "execution_count": 22,
   "metadata": {},
   "outputs": [
    {
     "name": "stdout",
     "output_type": "stream",
     "text": [
      "<class 'pandas.core.frame.DataFrame'>\n",
      "RangeIndex: 20911 entries, 0 to 20910\n",
      "Data columns (total 7 columns):\n",
      " #   Column            Non-Null Count  Dtype  \n",
      "---  ------            --------------  -----  \n",
      " 0   x0_10 Very Good   20911 non-null  float64\n",
      " 1   x0_11 Excellent   20911 non-null  float64\n",
      " 2   x0_5 Fair         20911 non-null  float64\n",
      " 3   x0_6 Low Average  20911 non-null  float64\n",
      " 4   x0_7 Average      20911 non-null  float64\n",
      " 5   x0_8 Good         20911 non-null  float64\n",
      " 6   x0_9 Better       20911 non-null  float64\n",
      "dtypes: float64(7)\n",
      "memory usage: 1.1 MB\n"
     ]
    }
   ],
   "source": [
    "grade_transform = pd.DataFrame(grade_ohe.todense(), columns=ohe.get_feature_names())\n",
    "grade_transform.info()"
   ]
  },
  {
   "cell_type": "code",
   "execution_count": 23,
   "metadata": {},
   "outputs": [
    {
     "data": {
      "text/html": [
       "<div>\n",
       "<style scoped>\n",
       "    .dataframe tbody tr th:only-of-type {\n",
       "        vertical-align: middle;\n",
       "    }\n",
       "\n",
       "    .dataframe tbody tr th {\n",
       "        vertical-align: top;\n",
       "    }\n",
       "\n",
       "    .dataframe thead th {\n",
       "        text-align: right;\n",
       "    }\n",
       "</style>\n",
       "<table border=\"1\" class=\"dataframe\">\n",
       "  <thead>\n",
       "    <tr style=\"text-align: right;\">\n",
       "      <th></th>\n",
       "      <th>Unnamed: 0</th>\n",
       "      <th>id</th>\n",
       "      <th>date</th>\n",
       "      <th>price</th>\n",
       "      <th>bedrooms</th>\n",
       "      <th>bathrooms</th>\n",
       "      <th>sqft_living</th>\n",
       "      <th>sqft_lot</th>\n",
       "      <th>floors</th>\n",
       "      <th>condition</th>\n",
       "      <th>...</th>\n",
       "      <th>farmers_market_dist</th>\n",
       "      <th>farmers_market_name</th>\n",
       "      <th>view_y_n</th>\n",
       "      <th>x0_10 Very Good</th>\n",
       "      <th>x0_11 Excellent</th>\n",
       "      <th>x0_5 Fair</th>\n",
       "      <th>x0_6 Low Average</th>\n",
       "      <th>x0_7 Average</th>\n",
       "      <th>x0_8 Good</th>\n",
       "      <th>x0_9 Better</th>\n",
       "    </tr>\n",
       "  </thead>\n",
       "  <tbody>\n",
       "    <tr>\n",
       "      <th>0</th>\n",
       "      <td>0.0</td>\n",
       "      <td>7.129301e+09</td>\n",
       "      <td>10/13/2014</td>\n",
       "      <td>221900.0</td>\n",
       "      <td>3.0</td>\n",
       "      <td>1.00</td>\n",
       "      <td>1180.0</td>\n",
       "      <td>5650.0</td>\n",
       "      <td>1.0</td>\n",
       "      <td>Average</td>\n",
       "      <td>...</td>\n",
       "      <td>0.045049</td>\n",
       "      <td>Tukwila Village Farmers Market</td>\n",
       "      <td>0.0</td>\n",
       "      <td>0.0</td>\n",
       "      <td>0.0</td>\n",
       "      <td>0.0</td>\n",
       "      <td>0.0</td>\n",
       "      <td>1.0</td>\n",
       "      <td>0.0</td>\n",
       "      <td>0.0</td>\n",
       "    </tr>\n",
       "    <tr>\n",
       "      <th>1</th>\n",
       "      <td>1.0</td>\n",
       "      <td>6.414100e+09</td>\n",
       "      <td>12/9/2014</td>\n",
       "      <td>538000.0</td>\n",
       "      <td>3.0</td>\n",
       "      <td>2.25</td>\n",
       "      <td>2570.0</td>\n",
       "      <td>7242.0</td>\n",
       "      <td>2.0</td>\n",
       "      <td>Average</td>\n",
       "      <td>...</td>\n",
       "      <td>0.021050</td>\n",
       "      <td>Lake City Farmers Market</td>\n",
       "      <td>0.0</td>\n",
       "      <td>0.0</td>\n",
       "      <td>0.0</td>\n",
       "      <td>0.0</td>\n",
       "      <td>0.0</td>\n",
       "      <td>1.0</td>\n",
       "      <td>0.0</td>\n",
       "      <td>0.0</td>\n",
       "    </tr>\n",
       "    <tr>\n",
       "      <th>2</th>\n",
       "      <td>2.0</td>\n",
       "      <td>5.631500e+09</td>\n",
       "      <td>2/25/2015</td>\n",
       "      <td>180000.0</td>\n",
       "      <td>2.0</td>\n",
       "      <td>1.00</td>\n",
       "      <td>770.0</td>\n",
       "      <td>10000.0</td>\n",
       "      <td>1.0</td>\n",
       "      <td>Average</td>\n",
       "      <td>...</td>\n",
       "      <td>0.037623</td>\n",
       "      <td>Juanita Friday Market</td>\n",
       "      <td>0.0</td>\n",
       "      <td>0.0</td>\n",
       "      <td>0.0</td>\n",
       "      <td>0.0</td>\n",
       "      <td>1.0</td>\n",
       "      <td>0.0</td>\n",
       "      <td>0.0</td>\n",
       "      <td>0.0</td>\n",
       "    </tr>\n",
       "    <tr>\n",
       "      <th>3</th>\n",
       "      <td>3.0</td>\n",
       "      <td>2.487201e+09</td>\n",
       "      <td>12/9/2014</td>\n",
       "      <td>604000.0</td>\n",
       "      <td>4.0</td>\n",
       "      <td>3.00</td>\n",
       "      <td>1960.0</td>\n",
       "      <td>5000.0</td>\n",
       "      <td>1.0</td>\n",
       "      <td>Very Good</td>\n",
       "      <td>...</td>\n",
       "      <td>0.040609</td>\n",
       "      <td>West Seattle Farmers Market</td>\n",
       "      <td>0.0</td>\n",
       "      <td>0.0</td>\n",
       "      <td>0.0</td>\n",
       "      <td>0.0</td>\n",
       "      <td>0.0</td>\n",
       "      <td>1.0</td>\n",
       "      <td>0.0</td>\n",
       "      <td>0.0</td>\n",
       "    </tr>\n",
       "    <tr>\n",
       "      <th>4</th>\n",
       "      <td>4.0</td>\n",
       "      <td>1.954401e+09</td>\n",
       "      <td>2/18/2015</td>\n",
       "      <td>510000.0</td>\n",
       "      <td>3.0</td>\n",
       "      <td>2.00</td>\n",
       "      <td>1680.0</td>\n",
       "      <td>8080.0</td>\n",
       "      <td>1.0</td>\n",
       "      <td>Average</td>\n",
       "      <td>...</td>\n",
       "      <td>0.045950</td>\n",
       "      <td>Sammamish Farmers Market</td>\n",
       "      <td>0.0</td>\n",
       "      <td>0.0</td>\n",
       "      <td>0.0</td>\n",
       "      <td>0.0</td>\n",
       "      <td>0.0</td>\n",
       "      <td>0.0</td>\n",
       "      <td>1.0</td>\n",
       "      <td>0.0</td>\n",
       "    </tr>\n",
       "  </tbody>\n",
       "</table>\n",
       "<p>5 rows × 37 columns</p>\n",
       "</div>"
      ],
      "text/plain": [
       "   Unnamed: 0            id        date     price  bedrooms  bathrooms  \\\n",
       "0         0.0  7.129301e+09  10/13/2014  221900.0       3.0       1.00   \n",
       "1         1.0  6.414100e+09   12/9/2014  538000.0       3.0       2.25   \n",
       "2         2.0  5.631500e+09   2/25/2015  180000.0       2.0       1.00   \n",
       "3         3.0  2.487201e+09   12/9/2014  604000.0       4.0       3.00   \n",
       "4         4.0  1.954401e+09   2/18/2015  510000.0       3.0       2.00   \n",
       "\n",
       "   sqft_living  sqft_lot  floors  condition  ... farmers_market_dist  \\\n",
       "0       1180.0    5650.0     1.0    Average  ...            0.045049   \n",
       "1       2570.0    7242.0     2.0    Average  ...            0.021050   \n",
       "2        770.0   10000.0     1.0    Average  ...            0.037623   \n",
       "3       1960.0    5000.0     1.0  Very Good  ...            0.040609   \n",
       "4       1680.0    8080.0     1.0    Average  ...            0.045950   \n",
       "\n",
       "              farmers_market_name view_y_n  x0_10 Very Good  x0_11 Excellent  \\\n",
       "0  Tukwila Village Farmers Market      0.0              0.0              0.0   \n",
       "1        Lake City Farmers Market      0.0              0.0              0.0   \n",
       "2           Juanita Friday Market      0.0              0.0              0.0   \n",
       "3     West Seattle Farmers Market      0.0              0.0              0.0   \n",
       "4        Sammamish Farmers Market      0.0              0.0              0.0   \n",
       "\n",
       "   x0_5 Fair  x0_6 Low Average  x0_7 Average  x0_8 Good  x0_9 Better  \n",
       "0        0.0               0.0           1.0        0.0          0.0  \n",
       "1        0.0               0.0           1.0        0.0          0.0  \n",
       "2        0.0               1.0           0.0        0.0          0.0  \n",
       "3        0.0               0.0           1.0        0.0          0.0  \n",
       "4        0.0               0.0           0.0        1.0          0.0  \n",
       "\n",
       "[5 rows x 37 columns]"
      ]
     },
     "execution_count": 23,
     "metadata": {},
     "output_type": "execute_result"
    }
   ],
   "source": [
    "df = pd.concat([df, grade_transform], axis = 1)\n",
    "df.head()"
   ]
  },
  {
   "cell_type": "code",
   "execution_count": 24,
   "metadata": {},
   "outputs": [],
   "source": [
    "df = df.drop(columns = 'grade')\n"
   ]
  },
  {
   "cell_type": "code",
   "execution_count": 25,
   "metadata": {},
   "outputs": [
    {
     "name": "stdout",
     "output_type": "stream",
     "text": [
      "<class 'pandas.core.frame.DataFrame'>\n",
      "Int64Index: 21579 entries, 0 to 21595\n",
      "Data columns (total 36 columns):\n",
      " #   Column               Non-Null Count  Dtype  \n",
      "---  ------               --------------  -----  \n",
      " 0   Unnamed: 0           20911 non-null  float64\n",
      " 1   id                   20911 non-null  float64\n",
      " 2   date                 20911 non-null  object \n",
      " 3   price                20911 non-null  float64\n",
      " 4   bedrooms             20911 non-null  float64\n",
      " 5   bathrooms            20911 non-null  float64\n",
      " 6   sqft_living          20911 non-null  float64\n",
      " 7   sqft_lot             20911 non-null  float64\n",
      " 8   floors               20911 non-null  float64\n",
      " 9   condition            20911 non-null  object \n",
      " 10  sqft_above           20911 non-null  float64\n",
      " 11  sqft_basement        20911 non-null  object \n",
      " 12  yr_built             20911 non-null  float64\n",
      " 13  yr_renovated         17189 non-null  float64\n",
      " 14  zipcode              20911 non-null  float64\n",
      " 15  lat                  20911 non-null  float64\n",
      " 16  long                 20911 non-null  float64\n",
      " 17  sqft_living15        20911 non-null  float64\n",
      " 18  sqft_lot15           20911 non-null  float64\n",
      " 19  geometry             20911 non-null  object \n",
      " 20  police_dist          20911 non-null  float64\n",
      " 21  police_station_name  20911 non-null  object \n",
      " 22  medical_dist         20911 non-null  float64\n",
      " 23  medical_name         20911 non-null  object \n",
      " 24  school_dist          20911 non-null  float64\n",
      " 25  school_name          20911 non-null  object \n",
      " 26  farmers_market_dist  20911 non-null  float64\n",
      " 27  farmers_market_name  20911 non-null  object \n",
      " 28  view_y_n             20911 non-null  float64\n",
      " 29  x0_10 Very Good      20911 non-null  float64\n",
      " 30  x0_11 Excellent      20911 non-null  float64\n",
      " 31  x0_5 Fair            20911 non-null  float64\n",
      " 32  x0_6 Low Average     20911 non-null  float64\n",
      " 33  x0_7 Average         20911 non-null  float64\n",
      " 34  x0_8 Good            20911 non-null  float64\n",
      " 35  x0_9 Better          20911 non-null  float64\n",
      "dtypes: float64(28), object(8)\n",
      "memory usage: 6.1+ MB\n"
     ]
    }
   ],
   "source": [
    "df.info()"
   ]
  },
  {
   "cell_type": "markdown",
   "metadata": {},
   "source": [
    "### Condition"
   ]
  },
  {
   "cell_type": "code",
   "execution_count": 26,
   "metadata": {
    "scrolled": true
   },
   "outputs": [
    {
     "data": {
      "text/plain": [
       "Average      13564\n",
       "Good          5510\n",
       "Very Good     1650\n",
       "Fair           161\n",
       "Poor            26\n",
       "Name: condition, dtype: int64"
      ]
     },
     "execution_count": 26,
     "metadata": {},
     "output_type": "execute_result"
    }
   ],
   "source": [
    "df['condition'].value_counts()"
   ]
  },
  {
   "cell_type": "code",
   "execution_count": 28,
   "metadata": {},
   "outputs": [
    {
     "data": {
      "text/plain": [
       "0          Average\n",
       "1          Average\n",
       "2          Average\n",
       "3        Very Good\n",
       "4          Average\n",
       "           ...    \n",
       "21590      Average\n",
       "21591      Average\n",
       "21592      Average\n",
       "21593      Average\n",
       "21595      Average\n",
       "Name: condition, Length: 21579, dtype: object"
      ]
     },
     "execution_count": 28,
     "metadata": {},
     "output_type": "execute_result"
    }
   ],
   "source": [
    "df[\"condition\"].fillna(\"N/A\")\n"
   ]
  },
  {
   "cell_type": "code",
   "execution_count": 33,
   "metadata": {},
   "outputs": [
    {
     "data": {
      "text/plain": [
       "<AxesSubplot:>"
      ]
     },
     "execution_count": 33,
     "metadata": {},
     "output_type": "execute_result"
    },
    {
     "data": {
      "image/png": "[encoded data removed]",
      "text/plain": [
       "<Figure size 1800x720 with 2 Axes>"
      ]
     },
     "metadata": {
      "needs_background": "light"
     },
     "output_type": "display_data"
    }
   ],
   "source": [
    "import missingno as msno\n",
    "\n",
    "msno.matrix(df)\n"
   ]
  },
  {
   "cell_type": "code",
   "execution_count": 30,
   "metadata": {},
   "outputs": [
    {
     "ename": "ValueError",
     "evalue": "Input contains NaN",
     "output_type": "error",
     "traceback": [
      "\u001b[1;31m---------------------------------------------------------------------------\u001b[0m",
      "\u001b[1;31mValueError\u001b[0m                                Traceback (most recent call last)",
      "\u001b[1;32m<ipython-input-30-3aee3876bede>\u001b[0m in \u001b[0;36m<module>\u001b[1;34m\u001b[0m\n\u001b[0;32m      1\u001b[0m \u001b[0mohe2\u001b[0m \u001b[1;33m=\u001b[0m \u001b[0mOneHotEncoder\u001b[0m\u001b[1;33m(\u001b[0m\u001b[1;33m)\u001b[0m\u001b[1;33m\u001b[0m\u001b[1;33m\u001b[0m\u001b[0m\n\u001b[0;32m      2\u001b[0m \u001b[0mcol_name2\u001b[0m \u001b[1;33m=\u001b[0m \u001b[0mdf\u001b[0m\u001b[1;33m[\u001b[0m\u001b[1;33m[\u001b[0m\u001b[1;34m'condition'\u001b[0m\u001b[1;33m]\u001b[0m\u001b[1;33m]\u001b[0m\u001b[1;33m\u001b[0m\u001b[1;33m\u001b[0m\u001b[0m\n\u001b[1;32m----> 3\u001b[1;33m \u001b[0mcondition_ohe\u001b[0m \u001b[1;33m=\u001b[0m \u001b[0mohe2\u001b[0m\u001b[1;33m.\u001b[0m\u001b[0mfit_transform\u001b[0m\u001b[1;33m(\u001b[0m\u001b[0mcol_name2\u001b[0m\u001b[1;33m)\u001b[0m\u001b[1;33m\u001b[0m\u001b[1;33m\u001b[0m\u001b[0m\n\u001b[0m\u001b[0;32m      4\u001b[0m \u001b[1;33m\u001b[0m\u001b[0m\n",
      "\u001b[1;32m~\\anaconda3\\envs\\learn-env\\lib\\site-packages\\sklearn\\preprocessing\\_encoders.py\u001b[0m in \u001b[0;36mfit_transform\u001b[1;34m(self, X, y)\u001b[0m\n\u001b[0;32m    408\u001b[0m         \"\"\"\n\u001b[0;32m    409\u001b[0m         \u001b[0mself\u001b[0m\u001b[1;33m.\u001b[0m\u001b[0m_validate_keywords\u001b[0m\u001b[1;33m(\u001b[0m\u001b[1;33m)\u001b[0m\u001b[1;33m\u001b[0m\u001b[1;33m\u001b[0m\u001b[0m\n\u001b[1;32m--> 410\u001b[1;33m         \u001b[1;32mreturn\u001b[0m \u001b[0msuper\u001b[0m\u001b[1;33m(\u001b[0m\u001b[1;33m)\u001b[0m\u001b[1;33m.\u001b[0m\u001b[0mfit_transform\u001b[0m\u001b[1;33m(\u001b[0m\u001b[0mX\u001b[0m\u001b[1;33m,\u001b[0m \u001b[0my\u001b[0m\u001b[1;33m)\u001b[0m\u001b[1;33m\u001b[0m\u001b[1;33m\u001b[0m\u001b[0m\n\u001b[0m\u001b[0;32m    411\u001b[0m \u001b[1;33m\u001b[0m\u001b[0m\n\u001b[0;32m    412\u001b[0m     \u001b[1;32mdef\u001b[0m \u001b[0mtransform\u001b[0m\u001b[1;33m(\u001b[0m\u001b[0mself\u001b[0m\u001b[1;33m,\u001b[0m \u001b[0mX\u001b[0m\u001b[1;33m)\u001b[0m\u001b[1;33m:\u001b[0m\u001b[1;33m\u001b[0m\u001b[1;33m\u001b[0m\u001b[0m\n",
      "\u001b[1;32m~\\anaconda3\\envs\\learn-env\\lib\\site-packages\\sklearn\\base.py\u001b[0m in \u001b[0;36mfit_transform\u001b[1;34m(self, X, y, **fit_params)\u001b[0m\n\u001b[0;32m    688\u001b[0m         \u001b[1;32mif\u001b[0m \u001b[0my\u001b[0m \u001b[1;32mis\u001b[0m \u001b[1;32mNone\u001b[0m\u001b[1;33m:\u001b[0m\u001b[1;33m\u001b[0m\u001b[1;33m\u001b[0m\u001b[0m\n\u001b[0;32m    689\u001b[0m             \u001b[1;31m# fit method of arity 1 (unsupervised transformation)\u001b[0m\u001b[1;33m\u001b[0m\u001b[1;33m\u001b[0m\u001b[1;33m\u001b[0m\u001b[0m\n\u001b[1;32m--> 690\u001b[1;33m             \u001b[1;32mreturn\u001b[0m \u001b[0mself\u001b[0m\u001b[1;33m.\u001b[0m\u001b[0mfit\u001b[0m\u001b[1;33m(\u001b[0m\u001b[0mX\u001b[0m\u001b[1;33m,\u001b[0m \u001b[1;33m**\u001b[0m\u001b[0mfit_params\u001b[0m\u001b[1;33m)\u001b[0m\u001b[1;33m.\u001b[0m\u001b[0mtransform\u001b[0m\u001b[1;33m(\u001b[0m\u001b[0mX\u001b[0m\u001b[1;33m)\u001b[0m\u001b[1;33m\u001b[0m\u001b[1;33m\u001b[0m\u001b[0m\n\u001b[0m\u001b[0;32m    691\u001b[0m         \u001b[1;32melse\u001b[0m\u001b[1;33m:\u001b[0m\u001b[1;33m\u001b[0m\u001b[1;33m\u001b[0m\u001b[0m\n\u001b[0;32m    692\u001b[0m             \u001b[1;31m# fit method of arity 2 (supervised transformation)\u001b[0m\u001b[1;33m\u001b[0m\u001b[1;33m\u001b[0m\u001b[1;33m\u001b[0m\u001b[0m\n",
      "\u001b[1;32m~\\anaconda3\\envs\\learn-env\\lib\\site-packages\\sklearn\\preprocessing\\_encoders.py\u001b[0m in \u001b[0;36mfit\u001b[1;34m(self, X, y)\u001b[0m\n\u001b[0;32m    383\u001b[0m         \"\"\"\n\u001b[0;32m    384\u001b[0m         \u001b[0mself\u001b[0m\u001b[1;33m.\u001b[0m\u001b[0m_validate_keywords\u001b[0m\u001b[1;33m(\u001b[0m\u001b[1;33m)\u001b[0m\u001b[1;33m\u001b[0m\u001b[1;33m\u001b[0m\u001b[0m\n\u001b[1;32m--> 385\u001b[1;33m         \u001b[0mself\u001b[0m\u001b[1;33m.\u001b[0m\u001b[0m_fit\u001b[0m\u001b[1;33m(\u001b[0m\u001b[0mX\u001b[0m\u001b[1;33m,\u001b[0m \u001b[0mhandle_unknown\u001b[0m\u001b[1;33m=\u001b[0m\u001b[0mself\u001b[0m\u001b[1;33m.\u001b[0m\u001b[0mhandle_unknown\u001b[0m\u001b[1;33m)\u001b[0m\u001b[1;33m\u001b[0m\u001b[1;33m\u001b[0m\u001b[0m\n\u001b[0m\u001b[0;32m    386\u001b[0m         \u001b[0mself\u001b[0m\u001b[1;33m.\u001b[0m\u001b[0mdrop_idx_\u001b[0m \u001b[1;33m=\u001b[0m \u001b[0mself\u001b[0m\u001b[1;33m.\u001b[0m\u001b[0m_compute_drop_idx\u001b[0m\u001b[1;33m(\u001b[0m\u001b[1;33m)\u001b[0m\u001b[1;33m\u001b[0m\u001b[1;33m\u001b[0m\u001b[0m\n\u001b[0;32m    387\u001b[0m         \u001b[1;32mreturn\u001b[0m \u001b[0mself\u001b[0m\u001b[1;33m\u001b[0m\u001b[1;33m\u001b[0m\u001b[0m\n",
      "\u001b[1;32m~\\anaconda3\\envs\\learn-env\\lib\\site-packages\\sklearn\\preprocessing\\_encoders.py\u001b[0m in \u001b[0;36m_fit\u001b[1;34m(self, X, handle_unknown)\u001b[0m\n\u001b[0;32m     72\u001b[0m \u001b[1;33m\u001b[0m\u001b[0m\n\u001b[0;32m     73\u001b[0m     \u001b[1;32mdef\u001b[0m \u001b[0m_fit\u001b[0m\u001b[1;33m(\u001b[0m\u001b[0mself\u001b[0m\u001b[1;33m,\u001b[0m \u001b[0mX\u001b[0m\u001b[1;33m,\u001b[0m \u001b[0mhandle_unknown\u001b[0m\u001b[1;33m=\u001b[0m\u001b[1;34m'error'\u001b[0m\u001b[1;33m)\u001b[0m\u001b[1;33m:\u001b[0m\u001b[1;33m\u001b[0m\u001b[1;33m\u001b[0m\u001b[0m\n\u001b[1;32m---> 74\u001b[1;33m         \u001b[0mX_list\u001b[0m\u001b[1;33m,\u001b[0m \u001b[0mn_samples\u001b[0m\u001b[1;33m,\u001b[0m \u001b[0mn_features\u001b[0m \u001b[1;33m=\u001b[0m \u001b[0mself\u001b[0m\u001b[1;33m.\u001b[0m\u001b[0m_check_X\u001b[0m\u001b[1;33m(\u001b[0m\u001b[0mX\u001b[0m\u001b[1;33m)\u001b[0m\u001b[1;33m\u001b[0m\u001b[1;33m\u001b[0m\u001b[0m\n\u001b[0m\u001b[0;32m     75\u001b[0m \u001b[1;33m\u001b[0m\u001b[0m\n\u001b[0;32m     76\u001b[0m         \u001b[1;32mif\u001b[0m \u001b[0mself\u001b[0m\u001b[1;33m.\u001b[0m\u001b[0mcategories\u001b[0m \u001b[1;33m!=\u001b[0m \u001b[1;34m'auto'\u001b[0m\u001b[1;33m:\u001b[0m\u001b[1;33m\u001b[0m\u001b[1;33m\u001b[0m\u001b[0m\n",
      "\u001b[1;32m~\\anaconda3\\envs\\learn-env\\lib\\site-packages\\sklearn\\preprocessing\\_encoders.py\u001b[0m in \u001b[0;36m_check_X\u001b[1;34m(self, X)\u001b[0m\n\u001b[0;32m     58\u001b[0m         \u001b[1;32mfor\u001b[0m \u001b[0mi\u001b[0m \u001b[1;32min\u001b[0m \u001b[0mrange\u001b[0m\u001b[1;33m(\u001b[0m\u001b[0mn_features\u001b[0m\u001b[1;33m)\u001b[0m\u001b[1;33m:\u001b[0m\u001b[1;33m\u001b[0m\u001b[1;33m\u001b[0m\u001b[0m\n\u001b[0;32m     59\u001b[0m             \u001b[0mXi\u001b[0m \u001b[1;33m=\u001b[0m \u001b[0mself\u001b[0m\u001b[1;33m.\u001b[0m\u001b[0m_get_feature\u001b[0m\u001b[1;33m(\u001b[0m\u001b[0mX\u001b[0m\u001b[1;33m,\u001b[0m \u001b[0mfeature_idx\u001b[0m\u001b[1;33m=\u001b[0m\u001b[0mi\u001b[0m\u001b[1;33m)\u001b[0m\u001b[1;33m\u001b[0m\u001b[1;33m\u001b[0m\u001b[0m\n\u001b[1;32m---> 60\u001b[1;33m             Xi = check_array(Xi, ensure_2d=False, dtype=None,\n\u001b[0m\u001b[0;32m     61\u001b[0m                              force_all_finite=needs_validation)\n\u001b[0;32m     62\u001b[0m             \u001b[0mX_columns\u001b[0m\u001b[1;33m.\u001b[0m\u001b[0mappend\u001b[0m\u001b[1;33m(\u001b[0m\u001b[0mXi\u001b[0m\u001b[1;33m)\u001b[0m\u001b[1;33m\u001b[0m\u001b[1;33m\u001b[0m\u001b[0m\n",
      "\u001b[1;32m~\\anaconda3\\envs\\learn-env\\lib\\site-packages\\sklearn\\utils\\validation.py\u001b[0m in \u001b[0;36minner_f\u001b[1;34m(*args, **kwargs)\u001b[0m\n\u001b[0;32m     70\u001b[0m                           FutureWarning)\n\u001b[0;32m     71\u001b[0m         \u001b[0mkwargs\u001b[0m\u001b[1;33m.\u001b[0m\u001b[0mupdate\u001b[0m\u001b[1;33m(\u001b[0m\u001b[1;33m{\u001b[0m\u001b[0mk\u001b[0m\u001b[1;33m:\u001b[0m \u001b[0marg\u001b[0m \u001b[1;32mfor\u001b[0m \u001b[0mk\u001b[0m\u001b[1;33m,\u001b[0m \u001b[0marg\u001b[0m \u001b[1;32min\u001b[0m \u001b[0mzip\u001b[0m\u001b[1;33m(\u001b[0m\u001b[0msig\u001b[0m\u001b[1;33m.\u001b[0m\u001b[0mparameters\u001b[0m\u001b[1;33m,\u001b[0m \u001b[0margs\u001b[0m\u001b[1;33m)\u001b[0m\u001b[1;33m}\u001b[0m\u001b[1;33m)\u001b[0m\u001b[1;33m\u001b[0m\u001b[1;33m\u001b[0m\u001b[0m\n\u001b[1;32m---> 72\u001b[1;33m         \u001b[1;32mreturn\u001b[0m \u001b[0mf\u001b[0m\u001b[1;33m(\u001b[0m\u001b[1;33m**\u001b[0m\u001b[0mkwargs\u001b[0m\u001b[1;33m)\u001b[0m\u001b[1;33m\u001b[0m\u001b[1;33m\u001b[0m\u001b[0m\n\u001b[0m\u001b[0;32m     73\u001b[0m     \u001b[1;32mreturn\u001b[0m \u001b[0minner_f\u001b[0m\u001b[1;33m\u001b[0m\u001b[1;33m\u001b[0m\u001b[0m\n\u001b[0;32m     74\u001b[0m \u001b[1;33m\u001b[0m\u001b[0m\n",
      "\u001b[1;32m~\\anaconda3\\envs\\learn-env\\lib\\site-packages\\sklearn\\utils\\validation.py\u001b[0m in \u001b[0;36mcheck_array\u001b[1;34m(array, accept_sparse, accept_large_sparse, dtype, order, copy, force_all_finite, ensure_2d, allow_nd, ensure_min_samples, ensure_min_features, estimator)\u001b[0m\n\u001b[0;32m    642\u001b[0m \u001b[1;33m\u001b[0m\u001b[0m\n\u001b[0;32m    643\u001b[0m         \u001b[1;32mif\u001b[0m \u001b[0mforce_all_finite\u001b[0m\u001b[1;33m:\u001b[0m\u001b[1;33m\u001b[0m\u001b[1;33m\u001b[0m\u001b[0m\n\u001b[1;32m--> 644\u001b[1;33m             _assert_all_finite(array,\n\u001b[0m\u001b[0;32m    645\u001b[0m                                allow_nan=force_all_finite == 'allow-nan')\n\u001b[0;32m    646\u001b[0m \u001b[1;33m\u001b[0m\u001b[0m\n",
      "\u001b[1;32m~\\anaconda3\\envs\\learn-env\\lib\\site-packages\\sklearn\\utils\\validation.py\u001b[0m in \u001b[0;36m_assert_all_finite\u001b[1;34m(X, allow_nan, msg_dtype)\u001b[0m\n\u001b[0;32m    102\u001b[0m     \u001b[1;32melif\u001b[0m \u001b[0mX\u001b[0m\u001b[1;33m.\u001b[0m\u001b[0mdtype\u001b[0m \u001b[1;33m==\u001b[0m \u001b[0mnp\u001b[0m\u001b[1;33m.\u001b[0m\u001b[0mdtype\u001b[0m\u001b[1;33m(\u001b[0m\u001b[1;34m'object'\u001b[0m\u001b[1;33m)\u001b[0m \u001b[1;32mand\u001b[0m \u001b[1;32mnot\u001b[0m \u001b[0mallow_nan\u001b[0m\u001b[1;33m:\u001b[0m\u001b[1;33m\u001b[0m\u001b[1;33m\u001b[0m\u001b[0m\n\u001b[0;32m    103\u001b[0m         \u001b[1;32mif\u001b[0m \u001b[0m_object_dtype_isnan\u001b[0m\u001b[1;33m(\u001b[0m\u001b[0mX\u001b[0m\u001b[1;33m)\u001b[0m\u001b[1;33m.\u001b[0m\u001b[0many\u001b[0m\u001b[1;33m(\u001b[0m\u001b[1;33m)\u001b[0m\u001b[1;33m:\u001b[0m\u001b[1;33m\u001b[0m\u001b[1;33m\u001b[0m\u001b[0m\n\u001b[1;32m--> 104\u001b[1;33m             \u001b[1;32mraise\u001b[0m \u001b[0mValueError\u001b[0m\u001b[1;33m(\u001b[0m\u001b[1;34m\"Input contains NaN\"\u001b[0m\u001b[1;33m)\u001b[0m\u001b[1;33m\u001b[0m\u001b[1;33m\u001b[0m\u001b[0m\n\u001b[0m\u001b[0;32m    105\u001b[0m \u001b[1;33m\u001b[0m\u001b[0m\n\u001b[0;32m    106\u001b[0m \u001b[1;33m\u001b[0m\u001b[0m\n",
      "\u001b[1;31mValueError\u001b[0m: Input contains NaN"
     ]
    }
   ],
   "source": [
    "ohe2 = OneHotEncoder()\n",
    "col_name2 = df[['condition']]\n",
    "condition_ohe = ohe2.fit_transform(col_name2)\n",
    "\n"
   ]
  },
  {
   "cell_type": "code",
   "execution_count": null,
   "metadata": {},
   "outputs": [],
   "source": []
  }
 ],
 "metadata": {
  "kernelspec": {
   "display_name": "Python (learn-env)",
   "language": "python",
   "name": "learn-env"
  },
  "language_info": {
   "codemirror_mode": {
    "name": "ipython",
    "version": 3
   },
   "file_extension": ".py",
   "mimetype": "text/x-python",
   "name": "python",
   "nbconvert_exporter": "python",
   "pygments_lexer": "ipython3",
   "version": "3.8.5"
  }
 },
 "nbformat": 4,
 "nbformat_minor": 4
}
